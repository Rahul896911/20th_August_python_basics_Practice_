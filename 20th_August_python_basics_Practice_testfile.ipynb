{
  "nbformat": 4,
  "nbformat_minor": 0,
  "metadata": {
    "colab": {
      "provenance": [],
      "authorship_tag": "ABX9TyMDChrrbFFGcEW/9klloFKp",
      "include_colab_link": true
    },
    "kernelspec": {
      "name": "python3",
      "display_name": "Python 3"
    },
    "language_info": {
      "name": "python"
    }
  },
  "cells": [
    {
      "cell_type": "markdown",
      "metadata": {
        "id": "view-in-github",
        "colab_type": "text"
      },
      "source": [
        "<a href=\"https://colab.research.google.com/github/Rahul896911/20th_August_python_basics_Practice_/blob/main/20th_August_python_basics_Practice_testfile.ipynb\" target=\"_parent\"><img src=\"https://colab.research.google.com/assets/colab-badge.svg\" alt=\"Open In Colab\"/></a>"
      ]
    },
    {
      "cell_type": "markdown",
      "source": [
        "TOPIC: String Based Assignment Problem"
      ],
      "metadata": {
        "id": "gQRZdy9ZC69P"
      }
    },
    {
      "cell_type": "code",
      "execution_count": null,
      "metadata": {
        "id": "W-v4KPc8B1SP"
      },
      "outputs": [],
      "source": [
        "# Q1 reverse string\n",
        "\n",
        "def reverse_string(string):\n",
        "  return string[::-1]\n"
      ]
    },
    {
      "cell_type": "code",
      "source": [
        "# Q2 check if a string palindrome:\n",
        "\n",
        "def is_palindrome(string):\n",
        "  return string== string[::-1]\n"
      ],
      "metadata": {
        "id": "1i-cxGXQDghZ"
      },
      "execution_count": null,
      "outputs": []
    },
    {
      "cell_type": "code",
      "source": [
        "#Q3 covert a string to uppercase\n",
        "\n",
        "def to_uppercase(string):\n",
        "  return string.upper()\n"
      ],
      "metadata": {
        "id": "ACt1_ldjEY6f"
      },
      "execution_count": null,
      "outputs": []
    },
    {
      "cell_type": "code",
      "source": [
        "#Q4 convert a string to lowercase:\n",
        "\n",
        "def to_lowercase(string):\n",
        "  return string.lower()\n"
      ],
      "metadata": {
        "id": "m9G37Nk1Ecxi"
      },
      "execution_count": null,
      "outputs": []
    },
    {
      "cell_type": "code",
      "source": [
        "#Q5 count the number of vowels in a string :\n",
        "\n",
        "def count_vowels(string):\n",
        "  vowels = \"aeiou\"\n",
        "  return len([char for char in string if char.lower() in vowels])"
      ],
      "metadata": {
        "id": "7Vnj8OkoGWgp"
      },
      "execution_count": null,
      "outputs": []
    },
    {
      "cell_type": "code",
      "source": [
        "#Q6 count the number of consonants in a string:\n",
        "\n",
        "def count_consonants(string):\n",
        "  consonants= \"bcdfghjklmnpqrstvwxyz\"\n",
        "  return len([char for char in string if char.lower() in consonants])\n"
      ],
      "metadata": {
        "id": "X4JnQRQZG8x1"
      },
      "execution_count": null,
      "outputs": []
    },
    {
      "cell_type": "code",
      "source": [
        "#Q7 remove all whitespaces from a string:\n",
        "\n",
        "def remove_whitespace(string):\n",
        "  return \"\".join(string.split())"
      ],
      "metadata": {
        "id": "UFhTLpqDH4X2"
      },
      "execution_count": null,
      "outputs": []
    },
    {
      "cell_type": "code",
      "source": [
        "#Q8 length of the string without using the len() function:\n",
        "\n",
        "def find_length(string):\n",
        "  count = 0\n",
        "  for char in string:\n",
        "    count +=1\n",
        "    return count\n"
      ],
      "metadata": {
        "id": "K8lAnJzQIQnS"
      },
      "execution_count": null,
      "outputs": []
    },
    {
      "cell_type": "code",
      "source": [
        "#Q9 check if a string contains a specific word:\n",
        "\n",
        "def contains_word(string,word):\n",
        "  return word in string\n",
        "\n"
      ],
      "metadata": {
        "id": "1l6q2hoURK69"
      },
      "execution_count": null,
      "outputs": []
    },
    {
      "cell_type": "code",
      "source": [
        "#Q10 Replace a word in a (string, old_word, new_word):\n",
        "\n",
        "def replace_word(string, old_word, new_word):\n",
        "  return string.replace(old_word, new_word)\n"
      ],
      "metadata": {
        "id": "u9-DML41RsJU"
      },
      "execution_count": null,
      "outputs": []
    },
    {
      "cell_type": "code",
      "source": [
        "#Q11 count the occurrences of a word in a string:\n",
        "\n",
        "def count_occurrences(string, word):\n",
        "  return string.count(word)"
      ],
      "metadata": {
        "id": "fwp_QhxESdMB"
      },
      "execution_count": null,
      "outputs": []
    },
    {
      "cell_type": "code",
      "source": [
        "#Q12 to find the first occurence  of a word in string:\n",
        "\n",
        "def find_first_occurence(string, word):\n",
        "  return string.find(word)"
      ],
      "metadata": {
        "id": "L7ZSIJJwUIHQ"
      },
      "execution_count": null,
      "outputs": []
    },
    {
      "cell_type": "code",
      "source": [
        "#Q13 to find the last occurrence of a word in a string:\n",
        "\n",
        "def find_last_occurrence(string, word):\n",
        "    return string.rfind(word)"
      ],
      "metadata": {
        "id": "mIYykflPUnHE"
      },
      "execution_count": null,
      "outputs": []
    },
    {
      "cell_type": "code",
      "source": [
        "#Q14 split a string into a list of  words:\n",
        "\n",
        "def split_string(string):\n",
        "  return string.split()"
      ],
      "metadata": {
        "id": "r1g0bRbgYfsE"
      },
      "execution_count": null,
      "outputs": []
    },
    {
      "cell_type": "code",
      "source": [
        "#Q15 To join a list of words into a string:\n",
        "\n",
        "def join_list(list_of_words):\n",
        "    return \" \".join(list_of_words)\n"
      ],
      "metadata": {
        "id": "QVA29W33Y7fD"
      },
      "execution_count": null,
      "outputs": []
    },
    {
      "cell_type": "code",
      "source": [
        "#Q16 to convert a string where are separated by spaces to one where words are sperated by underscores,you can use the following python code :\n",
        "\n",
        "string_with_spaces = \"this is a string with spaces\"\n",
        "string_with_underscores = string_with_spaces.replace(\" \",\"_\")"
      ],
      "metadata": {
        "id": "FMgXA7BtT7-G"
      },
      "execution_count": null,
      "outputs": []
    },
    {
      "cell_type": "code",
      "source": [
        "#Q17 to check if a string starts with a specific word or phrase,you canuse the startswith() method in python.Here's an example:\n",
        "\n",
        "string = \"hello world\"\n",
        "if string.startswith(\"hello\"):\n",
        "  print(\"The string starts with 'hello'\")"
      ],
      "metadata": {
        "colab": {
          "base_uri": "https://localhost:8080/"
        },
        "id": "4r5AYWvvf21m",
        "outputId": "37ea6e10-067e-4723-e12e-39778da6b9d3"
      },
      "execution_count": null,
      "outputs": [
        {
          "output_type": "stream",
          "name": "stdout",
          "text": [
            "The string starts with 'hello'\n"
          ]
        }
      ]
    },
    {
      "cell_type": "code",
      "source": [
        "#Q18 to check if string ends with a specific word or phrase,you can use endswith() method in python.here's an example:\n",
        "\n",
        "string = \"hello world\"\n",
        "if string.endswith(\"world\"):\n",
        "   print(\"The string ends with 'world'\")"
      ],
      "metadata": {
        "colab": {
          "base_uri": "https://localhost:8080/"
        },
        "id": "cQGc8UTViDDi",
        "outputId": "06aab3d8-da0d-4528-aa8f-72741878c297"
      },
      "execution_count": null,
      "outputs": [
        {
          "output_type": "stream",
          "name": "stdout",
          "text": [
            "The string ends with 'world'\n"
          ]
        }
      ]
    },
    {
      "cell_type": "code",
      "source": [
        "#Q19 to convert a string to title case(e.g.,\"hello world\" to \"Hello world\"),you can use the title() method in python.Here's an example:\n",
        "\n",
        "string =\"hello world\"\n",
        "title_case_string = string.title()\n",
        "print(title_case_string)"
      ],
      "metadata": {
        "colab": {
          "base_uri": "https://localhost:8080/"
        },
        "id": "marmpNckjFao",
        "outputId": "3fef8150-0bf7-4ea7-87d6-56b6061698ec"
      },
      "execution_count": null,
      "outputs": [
        {
          "output_type": "stream",
          "name": "stdout",
          "text": [
            "Hello World\n"
          ]
        }
      ]
    },
    {
      "cell_type": "code",
      "source": [
        "#Q20 to find the longest word in a string,you can split the string into words and then use the max() function in python.Here's an example:\n",
        "\n",
        "string = \"the quick brown fox jumps over the lazy dog\"\n",
        "longest_word = max(string.split(), key=len)\n",
        "print(longest_word)"
      ],
      "metadata": {
        "colab": {
          "base_uri": "https://localhost:8080/"
        },
        "id": "HkGV7VcbkGZV",
        "outputId": "2a853feb-fa9a-4ecf-e4fe-705cb1843db2"
      },
      "execution_count": null,
      "outputs": [
        {
          "output_type": "stream",
          "name": "stdout",
          "text": [
            "quick\n"
          ]
        }
      ]
    },
    {
      "cell_type": "code",
      "source": [],
      "metadata": {
        "id": "aaLVx3s_lPFe"
      },
      "execution_count": null,
      "outputs": []
    },
    {
      "cell_type": "code",
      "source": [
        "#Q21 to find the shortest word in a string,you can split the string into words and then use the min() function in python.Here's an example:\n",
        "\n",
        "string = \"the quick brown fox jumps over the lazy dog\"\n",
        "shortest_word = min(string.split(), key=len)\n",
        "print(shortest_word)"
      ],
      "metadata": {
        "colab": {
          "base_uri": "https://localhost:8080/"
        },
        "outputId": "5ef71c3a-6383-47fb-a311-c00c64d7042c",
        "id": "48k8Z_YHlibr"
      },
      "execution_count": null,
      "outputs": [
        {
          "output_type": "stream",
          "name": "stdout",
          "text": [
            "the\n"
          ]
        }
      ]
    },
    {
      "cell_type": "code",
      "source": [
        "#Q22 to reverse the order of words in a string,you can split the string into words,reverse the order of the resulting list,and then join the list back into a string.Here's an example:\n",
        "\n",
        "string = \"the quick brown fox jumps over the lazy dog\"\n",
        "reversed_string = \" \".join(string.split()[::-1])\n",
        "print(reversed_string)"
      ],
      "metadata": {
        "colab": {
          "base_uri": "https://localhost:8080/"
        },
        "outputId": "de8a0354-27e0-420d-e9e7-1a7943f5599e",
        "id": "zLJxsij-mDZE"
      },
      "execution_count": null,
      "outputs": [
        {
          "output_type": "stream",
          "name": "stdout",
          "text": [
            "dog lazy the over jumps fox brown quick the\n"
          ]
        }
      ]
    },
    {
      "cell_type": "code",
      "source": [
        "#Q23 to check if a string is alphanumeric,you can use the isalnum() method in python.Here's an example:\n",
        "\n",
        "string = \"abc123\"\n",
        "if string.isalnum():\n",
        "  print(\"The string is alphanumeric\")"
      ],
      "metadata": {
        "colab": {
          "base_uri": "https://localhost:8080/"
        },
        "id": "gtviFpw6nKE-",
        "outputId": "2320b6b9-02ba-40e3-e43f-064348a462b0"
      },
      "execution_count": null,
      "outputs": [
        {
          "output_type": "stream",
          "name": "stdout",
          "text": [
            "The string is alphanumeric\n"
          ]
        }
      ]
    },
    {
      "cell_type": "code",
      "source": [
        "#Q24 To extract all digits from a string , you can use regular expressions in python .Here's an example:\n",
        "\n",
        "import re\n",
        "\n",
        "string=\"abc123def456\"\n",
        "digits  = re.findall(r'\\d+' , string)\n",
        "print(digits)"
      ],
      "metadata": {
        "colab": {
          "base_uri": "https://localhost:8080/"
        },
        "id": "-WvSkJ_uoSKL",
        "outputId": "d49b5886-c9c1-4873-adae-dfda81b81fc4"
      },
      "execution_count": null,
      "outputs": [
        {
          "output_type": "stream",
          "name": "stdout",
          "text": [
            "['123', '456']\n"
          ]
        }
      ]
    },
    {
      "cell_type": "code",
      "source": [
        "#Q25 To extract all alphabets from a string , you can use regular expressions in python .Here's an example:\n",
        "\n",
        "import re\n",
        "\n",
        "string=\"abc123def456\"\n",
        "alphabets  = re.findall(r'[a-zA-Z]+' , string)\n",
        "print(alphabets)"
      ],
      "metadata": {
        "colab": {
          "base_uri": "https://localhost:8080/"
        },
        "outputId": "79090d27-eda6-46e4-e800-f9f33082f03d",
        "id": "uDGFs61rwG7o"
      },
      "execution_count": null,
      "outputs": [
        {
          "output_type": "stream",
          "name": "stdout",
          "text": [
            "['abc', 'def']\n"
          ]
        }
      ]
    },
    {
      "cell_type": "code",
      "source": [
        "#Q26 To count the number of uppercase letters in string , you can use a loop and the isupper() method in python.Here's an example :\n",
        "\n",
        "string = \"Hello World\"\n",
        "\n",
        "count = 0\n",
        "for char in string:\n",
        "   if char.isupper():\n",
        "    count += 1\n",
        "print(count)"
      ],
      "metadata": {
        "id": "vJf5ND-7wiKJ",
        "colab": {
          "base_uri": "https://localhost:8080/"
        },
        "outputId": "b47a4fa4-1c38-4157-a16d-90936f9ba318"
      },
      "execution_count": null,
      "outputs": [
        {
          "output_type": "stream",
          "name": "stdout",
          "text": [
            "2\n"
          ]
        }
      ]
    },
    {
      "cell_type": "code",
      "source": [
        "#Q27 To count the number of lowercase letters in string , you can use a loop and the islower() method in python.Here's an example :\n",
        "\n",
        "string = \"Hello World\"\n",
        "\n",
        "count = 0\n",
        "for char in string:\n",
        "   if char.islower():\n",
        "    count += 1\n",
        "print(count)"
      ],
      "metadata": {
        "colab": {
          "base_uri": "https://localhost:8080/"
        },
        "outputId": "3373f9d1-17e1-4a52-95e6-9a67082c0827",
        "id": "rWdmfIgFkITZ"
      },
      "execution_count": null,
      "outputs": [
        {
          "output_type": "stream",
          "name": "stdout",
          "text": [
            "8\n"
          ]
        }
      ]
    },
    {
      "cell_type": "code",
      "source": [
        "#Q28 To swap the case of each character in a string, you can use the swapcase() method in python.Here's an example\n",
        "\n",
        "string = \"Hello World\"\n",
        "swapped_case_string = string.swapcase()\n",
        "print(swapped_case_string)"
      ],
      "metadata": {
        "colab": {
          "base_uri": "https://localhost:8080/"
        },
        "id": "yP9IgBnPkXE9",
        "outputId": "3bbe1c01-5fdc-4757-ff63-24907addca97"
      },
      "execution_count": null,
      "outputs": [
        {
          "output_type": "stream",
          "name": "stdout",
          "text": [
            "hELLO wORLD\n"
          ]
        }
      ]
    },
    {
      "cell_type": "code",
      "source": [
        "#Q29 To remove a specific word from a string,you can use the replace() method in python.Here's an example:\n",
        "\n",
        "string_with_word_to_remove = \"this is a sentence with a word to remove\"\n",
        "word_to_remove =\"remove\"\n",
        "new_string = string_with_word_to_remove.replace(word_to_remove, \"\")\n",
        "print(new_string)"
      ],
      "metadata": {
        "colab": {
          "base_uri": "https://localhost:8080/"
        },
        "id": "gvM2cMAslQG4",
        "outputId": "db7e498c-3f19-4f60-e392-58112e5ba9f9"
      },
      "execution_count": null,
      "outputs": [
        {
          "output_type": "stream",
          "name": "stdout",
          "text": [
            "this is a sentence with a word to \n"
          ]
        }
      ]
    },
    {
      "cell_type": "code",
      "source": [
        "#Q30 To check if a string is a valid email address, we can use regular expressions in Python. Here’s an example:\n",
        "\n",
        "import re\n",
        "\n",
        "email_address = \"example@example.com\"\n",
        "if re.match(r\"[^@]+@[^@]+\\.[^@]+\", email_address):\n",
        "    print(\"The email address is valid\")\n"
      ],
      "metadata": {
        "colab": {
          "base_uri": "https://localhost:8080/"
        },
        "id": "GXY0EhrjokJj",
        "outputId": "1c62a93a-9466-4b16-c729-b3d6053cd0d3"
      },
      "execution_count": null,
      "outputs": [
        {
          "output_type": "stream",
          "name": "stdout",
          "text": [
            "The email address is valid\n"
          ]
        }
      ]
    },
    {
      "cell_type": "code",
      "source": [
        "#Q31 To extract the username from an email address string, you can use the following code snippet in Python:\n",
        "email = \"example@domain.com\"\n",
        "username = email.split(\"@\")[0]\n"
      ],
      "metadata": {
        "id": "R0FNPGJKpL7l"
      },
      "execution_count": null,
      "outputs": []
    },
    {
      "cell_type": "code",
      "source": [
        "#Q32 To extract the domain name from an email address string, we can use the following code snippet in Python:\n",
        "email = \"example@domain.com\"\n",
        "domain = email.split(\"@\")[1]\n"
      ],
      "metadata": {
        "id": "8JwrEaHoo9Ci"
      },
      "execution_count": null,
      "outputs": []
    },
    {
      "cell_type": "code",
      "source": [
        "#Q33 To replace multiple spaces in a string with a single space, we can use the following code snippet in Python:\n",
        "\n",
        "string = \"This    is    a    string    with    multiple    spaces.\"\n",
        "string = \" \".join(string.split())\n",
        "\n"
      ],
      "metadata": {
        "id": "RO9YasVttWGu"
      },
      "execution_count": null,
      "outputs": []
    },
    {
      "cell_type": "code",
      "source": [
        "#Q34 To check if a string is a valid URL,you can use the following code snippet in Python:\n",
        "\n",
        "import re\n",
        "\n",
        "url = \"https://www.example.com\"\n",
        "pattern = re.compile(r\"https?://(?:[-\\w.]|(?:%[\\da-fA-F]{2}))+\")\n",
        "\n",
        "if pattern.match(url):\n",
        "    print(\"Valid URL\")\n",
        "else:\n",
        "    print(\"Invalid URL\")\n"
      ],
      "metadata": {
        "colab": {
          "base_uri": "https://localhost:8080/"
        },
        "id": "0AapqY8rtrll",
        "outputId": "b13194ed-5f40-4a05-99d0-2cb0cfb9b68f"
      },
      "execution_count": null,
      "outputs": [
        {
          "output_type": "stream",
          "name": "stdout",
          "text": [
            "Valid URL\n"
          ]
        }
      ]
    },
    {
      "cell_type": "code",
      "source": [
        "#Q35 To extract the protocol (http or https) from a URL string,we can use the following code snippet in PYthon:\n",
        "\n",
        "from urllib.parse import urlparse\n",
        "\n",
        "url = \"https://www.example.com\"\n",
        "protocol = urlparse(url).scheme\n"
      ],
      "metadata": {
        "id": "mwIjFj8guEtR"
      },
      "execution_count": null,
      "outputs": []
    },
    {
      "cell_type": "code",
      "source": [
        "#Q36 To find the frequency of each character in astring,we can use the following code snippet in Python:\n",
        "\n",
        "string = \"This is a sample string.\"\n",
        "freq = {}\n",
        "\n",
        "for char in string:\n",
        "    if char in freq:\n",
        "        freq[char] += 1\n",
        "    else:\n",
        "        freq[char] = 1\n",
        "\n",
        "print(freq)\n"
      ],
      "metadata": {
        "colab": {
          "base_uri": "https://localhost:8080/"
        },
        "id": "8lUz0wLnueEe",
        "outputId": "4e9edd80-c0d4-4d45-a5f1-13c94aafc9c8"
      },
      "execution_count": null,
      "outputs": [
        {
          "output_type": "stream",
          "name": "stdout",
          "text": [
            "{'T': 1, 'h': 1, 'i': 3, 's': 4, ' ': 4, 'a': 2, 'm': 1, 'p': 1, 'l': 1, 'e': 1, 't': 1, 'r': 1, 'n': 1, 'g': 1, '.': 1}\n"
          ]
        }
      ]
    },
    {
      "cell_type": "code",
      "source": [
        "#Q37 To remove all punctuation from string,we can use the following code snippet in python:\n",
        "\n",
        "import string\n",
        "\n",
        "string_with_punctuations = \"This! is? a; sample: string.\"\n",
        "string_without_punctuations = string_with_punctuations.translate(str.maketrans(\"\", \"\", string.punctuation))\n"
      ],
      "metadata": {
        "id": "oJthnTUzu09v"
      },
      "execution_count": null,
      "outputs": []
    },
    {
      "cell_type": "code",
      "source": [
        "#Q38 To check if a string contains only digits,we can use the following code snippet Python:\n",
        "\n",
        "string = \"12345\"\n",
        "\n",
        "if string.isdigit():\n",
        "    print(\"String contains only digits\")\n",
        "else:\n",
        "    print(\"String does not contain only digits\")\n"
      ],
      "metadata": {
        "colab": {
          "base_uri": "https://localhost:8080/"
        },
        "id": "H10y-4dlvi0z",
        "outputId": "1dd648ad-24fc-4b42-da5b-ca0e6d713dcd"
      },
      "execution_count": null,
      "outputs": [
        {
          "output_type": "stream",
          "name": "stdout",
          "text": [
            "String contains only digits\n"
          ]
        }
      ]
    },
    {
      "cell_type": "code",
      "source": [
        "#Q39 To check if a string contains only alphabets,we can use the followinh code snippet in Python:\n",
        "\n",
        "string = \"abcd\"\n",
        "\n",
        "if string.isalpha():\n",
        "    print(\"String contains only alphabets\")\n",
        "else:\n",
        "    print(\"String does not contain only alphabets\")\n"
      ],
      "metadata": {
        "colab": {
          "base_uri": "https://localhost:8080/"
        },
        "id": "nJtn2TL_v8pB",
        "outputId": "6f193a5d-7a09-4242-f7be-e1956a62c5e6"
      },
      "execution_count": null,
      "outputs": [
        {
          "output_type": "stream",
          "name": "stdout",
          "text": [
            "String contains only alphabets\n"
          ]
        }
      ]
    },
    {
      "cell_type": "code",
      "source": [
        "#Q40 To covert a string to a list of characters, we can use the following code snippet in Python:\n",
        "\n",
        "string = \"This is a sample string.\"\n",
        "char_list = list(string)\n"
      ],
      "metadata": {
        "id": "fW2kckdgwkpe"
      },
      "execution_count": null,
      "outputs": []
    },
    {
      "cell_type": "code",
      "source": [
        "#Q41 To check if two strings are anagrams,we can use the following code snippet in Pythom:\n",
        "\n",
        "str1 = \"listen\"\n",
        "str2 = \"silent\"\n",
        "\n",
        "if sorted(str1) == sorted(str2):\n",
        "    print(\"Strings are anagrams\")\n",
        "else:\n",
        "    print(\"Strings are not anagrams\")\n"
      ],
      "metadata": {
        "colab": {
          "base_uri": "https://localhost:8080/"
        },
        "id": "XrcLZQ2dw93V",
        "outputId": "c10c4f39-54fa-4f44-ffbf-8503625e489f"
      },
      "execution_count": null,
      "outputs": [
        {
          "output_type": "stream",
          "name": "stdout",
          "text": [
            "Strings are anagrams\n"
          ]
        }
      ]
    },
    {
      "cell_type": "code",
      "source": [
        "#Q42 To encode a string using caesar cipher,you can use the following code snippet in Python:\n",
        "\n",
        "def caesar_cipher_encode(string: str, shift: int) -> str:\n",
        "    encoded_string = \"\"\n",
        "    for char in string:\n",
        "        if char.isalpha():\n",
        "            shifted_char = chr((ord(char) + shift - 65) % 26 + 65)\n",
        "            encoded_string += shifted_char\n",
        "        else:\n",
        "            encoded_string += char\n",
        "    return encoded_string\n",
        "\n",
        "string = \"HELLO WORLD\"\n",
        "shift = 3\n",
        "encoded_string = caesar_cipher_encode(string, shift)\n",
        "print(encoded_string)\n"
      ],
      "metadata": {
        "colab": {
          "base_uri": "https://localhost:8080/"
        },
        "id": "AlWGdbmMxkzV",
        "outputId": "1d36b407-940b-4da8-ec1a-7f0409a1a3b2"
      },
      "execution_count": null,
      "outputs": [
        {
          "output_type": "stream",
          "name": "stdout",
          "text": [
            "KHOOR ZRUOG\n"
          ]
        }
      ]
    },
    {
      "cell_type": "code",
      "source": [
        "#Q43 To decode a caesar cipher encoded string,we can use the following code snippet in Python:\n",
        "\n",
        "def caesar_cipher_decode(string: str, shift: int) -> str:\n",
        "    decoded_string = \"\"\n",
        "    for char in string:\n",
        "        if char.isalpha():\n",
        "            shifted_char = chr((ord(char) - shift - 65) % 26 + 65)\n",
        "            decoded_string += shifted_char\n",
        "        else:\n",
        "            decoded_string += char\n",
        "    return decoded_string\n",
        "\n",
        "string = \"KHOOR ZRUOG\"\n",
        "shift = 3\n",
        "decoded_string = caesar_cipher_decode(string, shift)\n",
        "print(decoded_string)\n"
      ],
      "metadata": {
        "colab": {
          "base_uri": "https://localhost:8080/"
        },
        "id": "uN8Df6-yyoAs",
        "outputId": "17319146-2f1a-4b38-9163-f6c8cc20dd72"
      },
      "execution_count": null,
      "outputs": [
        {
          "output_type": "stream",
          "name": "stdout",
          "text": [
            "HELLO WORLD\n"
          ]
        }
      ]
    },
    {
      "cell_type": "code",
      "source": [
        "#Q44 To find the most frequent word in a string, you can use the following code snippet in Python:\n",
        "\n",
        "from collections import Counter\n",
        "\n",
        "string = \"This is a sample string with repeated words. This is a sample.\"\n",
        "words = string.split()\n",
        "word_counts = Counter(words)\n",
        "most_frequent_word = word_counts.most_common(1)[0][0]\n",
        "print(most_frequent_word)\n"
      ],
      "metadata": {
        "colab": {
          "base_uri": "https://localhost:8080/"
        },
        "id": "skjJ0Hzz2aQY",
        "outputId": "16a1aca4-3827-434b-a8bb-77740e4ad71e"
      },
      "execution_count": null,
      "outputs": [
        {
          "output_type": "stream",
          "name": "stdout",
          "text": [
            "This\n"
          ]
        }
      ]
    },
    {
      "cell_type": "code",
      "source": [
        "#Q45 To find all unique words in a string, you can use the following code snippet in Python:\n",
        "\n",
        "string = \"This is a sample string with repeated words. This is a sample.\"\n",
        "words = set(string.split())\n",
        "unique_words = list(words)\n",
        "print(unique_words)\n",
        "\n"
      ],
      "metadata": {
        "colab": {
          "base_uri": "https://localhost:8080/"
        },
        "id": "U72aaAiJ3K-a",
        "outputId": "3e8d19ec-502f-46a2-e13f-28ec936e7024"
      },
      "execution_count": null,
      "outputs": [
        {
          "output_type": "stream",
          "name": "stdout",
          "text": [
            "['sample.', 'string', 'with', 'is', 'words.', 'This', 'sample', 'a', 'repeated']\n"
          ]
        }
      ]
    },
    {
      "cell_type": "code",
      "source": [
        "#Q46 To count the number of the syllables in a string,you can use the following code snippet in python:\n",
        "\n",
        "import nltk\n",
        "\n",
        "nltk.download('cmudict')\n",
        "\n",
        " def count_syllables(word: str) ->  int:\n",
        "     d = nltk.corpus.cmudict.dict()\n",
        "     return [len(list(y for y in x if y[-1].isdigit())) for x in\n",
        "d[word.lower()]][0]\n",
        "\n",
        "string = \"This is a sample sentence.\"\n",
        "syllable_count = sum(count_syllables(word) for word in string.split())\n",
        "print(syllable_count)\n",
        "\n",
        "\n",
        "\n"
      ],
      "metadata": {
        "colab": {
          "base_uri": "https://localhost:8080/",
          "height": 141
        },
        "id": "DEkVfsgv3ele",
        "outputId": "62c8f073-b13a-43f8-fc50-05d48711dc5c"
      },
      "execution_count": null,
      "outputs": [
        {
          "output_type": "error",
          "ename": "IndentationError",
          "evalue": "ignored",
          "traceback": [
            "\u001b[0;36m  File \u001b[0;32m\"<ipython-input-35-afd1b9d8cd5c>\"\u001b[0;36m, line \u001b[0;32m7\u001b[0m\n\u001b[0;31m    def count_syllables(word: str) ->  int:\u001b[0m\n\u001b[0m    ^\u001b[0m\n\u001b[0;31mIndentationError\u001b[0m\u001b[0;31m:\u001b[0m unexpected indent\n"
          ]
        }
      ]
    },
    {
      "cell_type": "code",
      "source": [
        "#Q47 To check if a string contains any special characters,you can use the following code snippet in Python:\n",
        "\n",
        "import re\n",
        "\n",
        "string = \"This is a sample sentence with special characters like @ and #.\"\n",
        "pattern = re.compile('[^a-zA-Z0-9 ]')\n",
        "if pattern.search(string):\n",
        "    print(\"String contains special characters\")\n",
        "else:\n",
        "    print(\"String does not contain special characters\")\n"
      ],
      "metadata": {
        "colab": {
          "base_uri": "https://localhost:8080/"
        },
        "id": "hZyfWXes3wQN",
        "outputId": "09d6f2fe-d26c-4a2e-9005-cc25d85698a5"
      },
      "execution_count": null,
      "outputs": [
        {
          "output_type": "stream",
          "name": "stdout",
          "text": [
            "String contains special characters\n"
          ]
        }
      ]
    },
    {
      "cell_type": "code",
      "source": [
        "#Q48 To remove the nth word from a string,you can use the following code snippet in Python:\n",
        "\n",
        "def remove_nth_word(string: str, n: int) -> str:\n",
        "    words = string.split()\n",
        "    del words[n-1]\n",
        "    return \" \".join(words)\n",
        "\n",
        "string = \"This is a sample sentence.\"\n",
        "n = 3\n",
        "new_string = remove_nth_word(string, n)\n",
        "print(new_string)\n",
        "\n"
      ],
      "metadata": {
        "colab": {
          "base_uri": "https://localhost:8080/"
        },
        "id": "PPeSkMZX75Nj",
        "outputId": "8bcd131b-e5e5-4326-8c19-cc19d5a984af"
      },
      "execution_count": null,
      "outputs": [
        {
          "output_type": "stream",
          "name": "stdout",
          "text": [
            "This is sample sentence.\n"
          ]
        }
      ]
    },
    {
      "cell_type": "code",
      "source": [
        "#Q49 To insert a word at the nth position in a string, you can use the following code snippet in Python:\n",
        "\n",
        "def insert_word(string: str, word: str, n: int) -> str:\n",
        "    return string[:n] + word + string[n:]\n",
        "\n",
        "string = \"This is a sample sentence.\"\n",
        "word = \"new\"\n",
        "n = 10\n",
        "new_string = insert_word(string, word, n)\n",
        "print(new_string)\n"
      ],
      "metadata": {
        "colab": {
          "base_uri": "https://localhost:8080/"
        },
        "id": "SBtfBois8e4Y",
        "outputId": "15dc8b38-a14a-4c43-c01c-df7017789946"
      },
      "execution_count": null,
      "outputs": [
        {
          "output_type": "stream",
          "name": "stdout",
          "text": [
            "This is a newsample sentence.\n"
          ]
        }
      ]
    },
    {
      "cell_type": "code",
      "source": [
        "#Q50 To covert a CSV string to a lists,we can use the following code snippet in python:\n",
        "\n",
        "csv_string = \"1,2,3\\n4,5,6\\n7,8,9\"\n",
        "list_of_lists = [row.split(\",\") for row in csv_string.split(\"\\n\")]\n",
        "print(list_of_lists)\n"
      ],
      "metadata": {
        "colab": {
          "base_uri": "https://localhost:8080/"
        },
        "id": "_zr6s-Sr8xPj",
        "outputId": "9f5c2ec2-30f9-436e-8464-d13c82b0f7d6"
      },
      "execution_count": null,
      "outputs": [
        {
          "output_type": "stream",
          "name": "stdout",
          "text": [
            "[['1', '2', '3'], ['4', '5', '6'], ['7', '8', '9']]\n"
          ]
        }
      ]
    },
    {
      "cell_type": "markdown",
      "source": [
        "List Based Practice Problem :\n"
      ],
      "metadata": {
        "id": "n0uDBQk7P0_y"
      }
    },
    {
      "cell_type": "code",
      "source": [
        "#Q1 to createa list with integers from 1 to 10:\n",
        "my_list = list(range(1, 11))\n"
      ],
      "metadata": {
        "id": "NvqmYyjt9KV0"
      },
      "execution_count": null,
      "outputs": []
    },
    {
      "cell_type": "code",
      "source": [
        "#Q2 To find the length of a list without using the len() function:\n",
        "\n",
        "my_list = [1, 2, 3, 4, 5]\n",
        "count = 0\n",
        "for _ in my_list:\n",
        "    count += 1\n",
        "print(count)\n"
      ],
      "metadata": {
        "colab": {
          "base_uri": "https://localhost:8080/"
        },
        "id": "yKTDVtMAQGaM",
        "outputId": "89dce491-f78b-4600-b6fa-3151b1dd6d96"
      },
      "execution_count": null,
      "outputs": [
        {
          "output_type": "stream",
          "name": "stdout",
          "text": [
            "5\n"
          ]
        }
      ]
    },
    {
      "cell_type": "code",
      "source": [
        "#Q3 Append an elements to the end of a list:\n",
        "\n",
        "my_list = [1, 2, 3]\n",
        "my_list.append(4)\n",
        "print(my_list)\n",
        "\n"
      ],
      "metadata": {
        "colab": {
          "base_uri": "https://localhost:8080/"
        },
        "id": "pT7fIc1sQeVz",
        "outputId": "cebd2fdf-e9dc-4bdf-bd43-ff3f99431ece"
      },
      "execution_count": null,
      "outputs": [
        {
          "output_type": "stream",
          "name": "stdout",
          "text": [
            "[1, 2, 3, 4]\n"
          ]
        }
      ]
    },
    {
      "cell_type": "code",
      "source": [
        "#Q4 Insert an elemnts at a specific index in  list:\n",
        "\n",
        "my_list = [1, 2, 3]\n",
        "my_list.insert(1, \"new_element\")\n",
        "print(my_list)\n"
      ],
      "metadata": {
        "colab": {
          "base_uri": "https://localhost:8080/"
        },
        "id": "QlNxs8Y7Rpei",
        "outputId": "d1fec505-d9b4-457a-c8ab-19bbb2b7b1e5"
      },
      "execution_count": null,
      "outputs": [
        {
          "output_type": "stream",
          "name": "stdout",
          "text": [
            "[1, 'new_element', 2, 3]\n"
          ]
        }
      ]
    },
    {
      "cell_type": "code",
      "source": [
        "#Q5 Remove an elements from a list by its value:\n",
        "\n",
        "my_list = [1, 2, 3]\n",
        "my_list.remove(2)\n",
        "print(my_list)\n"
      ],
      "metadata": {
        "colab": {
          "base_uri": "https://localhost:8080/"
        },
        "id": "gAjX6i9_QwE4",
        "outputId": "879f8760-0fa4-41bb-9a17-a5b6bede6426"
      },
      "execution_count": null,
      "outputs": [
        {
          "output_type": "stream",
          "name": "stdout",
          "text": [
            "[1, 3]\n"
          ]
        }
      ]
    },
    {
      "cell_type": "code",
      "source": [
        "#Q7 check if an element  exists in a list:\n",
        "\n",
        "my_list = [1, 2, 3]\n",
        "if 2 in my_list:\n",
        "    print(\"Element exists in the list\")\n",
        "else:\n",
        "    print(\"Element does not exist in the list\")\n"
      ],
      "metadata": {
        "id": "TfoAI5CKRgod",
        "colab": {
          "base_uri": "https://localhost:8080/"
        },
        "outputId": "f82c6256-f352-4df0-9bf3-f808aa57f56d"
      },
      "execution_count": null,
      "outputs": [
        {
          "output_type": "stream",
          "name": "stdout",
          "text": [
            "Element exists in the list\n"
          ]
        }
      ]
    },
    {
      "cell_type": "code",
      "source": [
        "#Q8 Find the index of the first occurence of an element in a list:\n",
        "my_list = [1, 2, 3]\n",
        "index = my_list.index(2)\n",
        "print(index)\n"
      ],
      "metadata": {
        "colab": {
          "base_uri": "https://localhost:8080/"
        },
        "id": "GfGDKdUuIk4K",
        "outputId": "902b6029-5ff1-4967-8945-91ee02976cff"
      },
      "execution_count": null,
      "outputs": [
        {
          "output_type": "stream",
          "name": "stdout",
          "text": [
            "1\n"
          ]
        }
      ]
    },
    {
      "cell_type": "code",
      "source": [
        "#Q9 count the occurrences of an element in a list:\n",
        "\n",
        "my_list = [1, 2, 3, 2]\n",
        "count = my_list.count(2)\n",
        "print(count)\n"
      ],
      "metadata": {
        "colab": {
          "base_uri": "https://localhost:8080/"
        },
        "id": "Inq0MUklI3Fv",
        "outputId": "06a138d7-43c8-4bac-edd6-287d56787961"
      },
      "execution_count": null,
      "outputs": [
        {
          "output_type": "stream",
          "name": "stdout",
          "text": [
            "2\n"
          ]
        }
      ]
    },
    {
      "cell_type": "code",
      "source": [
        "#Q10 Reverse the order of elements in a list:\n",
        "\n",
        "my_list = [1, 2, 3]\n",
        "my_list.reverse()\n",
        "print(my_list)\n"
      ],
      "metadata": {
        "colab": {
          "base_uri": "https://localhost:8080/"
        },
        "id": "K1B2wWgVJGY5",
        "outputId": "403d2db6-3e1a-497c-d7ae-11035e00a569"
      },
      "execution_count": null,
      "outputs": [
        {
          "output_type": "stream",
          "name": "stdout",
          "text": [
            "[3, 2, 1]\n"
          ]
        }
      ]
    },
    {
      "cell_type": "code",
      "source": [
        "#Q11 sort a list in ascending order:\n",
        "\n",
        "my_list = [3, 1, 2]\n",
        "my_list.sort()\n",
        "print(my_list)\n"
      ],
      "metadata": {
        "colab": {
          "base_uri": "https://localhost:8080/"
        },
        "id": "0ZYJnkyQJSYp",
        "outputId": "975bc02d-41af-4ca1-aea9-d85793f2d837"
      },
      "execution_count": null,
      "outputs": [
        {
          "output_type": "stream",
          "name": "stdout",
          "text": [
            "[1, 2, 3]\n"
          ]
        }
      ]
    },
    {
      "cell_type": "code",
      "source": [
        "#Q12 sort a list in descending order:\n",
        "my_list = [3, 1, 2]\n",
        "my_list.sort(reverse=True)\n",
        "print(my_list)\n",
        "\n",
        "\n"
      ],
      "metadata": {
        "colab": {
          "base_uri": "https://localhost:8080/"
        },
        "id": "GxX6j6H3Jdmb",
        "outputId": "d8090aef-cf6c-4784-90a7-7f6be7ba42cd"
      },
      "execution_count": null,
      "outputs": [
        {
          "output_type": "stream",
          "name": "stdout",
          "text": [
            "[3, 2, 1]\n"
          ]
        }
      ]
    },
    {
      "cell_type": "code",
      "source": [
        "#Q13  TO create a list of even numbers from 1 to 20:\n",
        "\n",
        "even_numbers = [i for i in range(1,21) if i%2==0]\n",
        "print(even_numbers)\n"
      ],
      "metadata": {
        "colab": {
          "base_uri": "https://localhost:8080/"
        },
        "id": "aCGUeqr0JqQD",
        "outputId": "7485f5df-2e1e-496d-d844-8febe5965fbd"
      },
      "execution_count": null,
      "outputs": [
        {
          "output_type": "stream",
          "name": "stdout",
          "text": [
            "[2, 4, 6, 8, 10, 12, 14, 16, 18, 20]\n"
          ]
        }
      ]
    },
    {
      "cell_type": "code",
      "source": [
        "#Q14 to create a list of odd numbers from 1 to 20:\n",
        "\n",
        "odd_numbers = [i for i in range(1,21) if i%2!=0]\n",
        "print(odd_numbers)\n"
      ],
      "metadata": {
        "colab": {
          "base_uri": "https://localhost:8080/"
        },
        "id": "65j-g6QQJ4pi",
        "outputId": "1206116b-66dd-418b-d583-efedd7611693"
      },
      "execution_count": null,
      "outputs": [
        {
          "output_type": "stream",
          "name": "stdout",
          "text": [
            "[1, 3, 5, 7, 9, 11, 13, 15, 17, 19]\n"
          ]
        }
      ]
    },
    {
      "cell_type": "code",
      "source": [
        "#Q15 To find the sum of all elements in a list:\n",
        "\n",
        "my_list = [1, 2, 3]\n",
        "sum_of_elements = sum(my_list)\n",
        "print(sum_of_elements)\n"
      ],
      "metadata": {
        "colab": {
          "base_uri": "https://localhost:8080/"
        },
        "id": "NTfEwMSHKRAN",
        "outputId": "c778d5da-4362-4b51-e6a6-3223b2bbb509"
      },
      "execution_count": null,
      "outputs": [
        {
          "output_type": "stream",
          "name": "stdout",
          "text": [
            "6\n"
          ]
        }
      ]
    },
    {
      "cell_type": "code",
      "source": [
        "#Q16 To find the maximum value in a list :\n",
        "\n",
        "my_list = [1, 2, 3]\n",
        "max_value = max(my_list)\n",
        "print(max_value)\n"
      ],
      "metadata": {
        "colab": {
          "base_uri": "https://localhost:8080/"
        },
        "id": "WnlNOrtFKfze",
        "outputId": "3b79ad47-2a2f-4fbe-855c-4d3954daffb5"
      },
      "execution_count": null,
      "outputs": [
        {
          "output_type": "stream",
          "name": "stdout",
          "text": [
            "3\n"
          ]
        }
      ]
    },
    {
      "cell_type": "code",
      "source": [
        "#Q17 TO find maximum value in a list :\n",
        "\n",
        "my_list = [1, 2, 3]\n",
        "max_value = max(my_list)\n",
        "print(max_value)\n"
      ],
      "metadata": {
        "colab": {
          "base_uri": "https://localhost:8080/"
        },
        "id": "kKOfhalhKsPZ",
        "outputId": "02cda27f-5f06-4c58-b90f-f761d2cda52e"
      },
      "execution_count": null,
      "outputs": [
        {
          "output_type": "stream",
          "name": "stdout",
          "text": [
            "3\n"
          ]
        }
      ]
    },
    {
      "cell_type": "code",
      "source": [
        "#Q18 create a list of squares fo numbers from 1 to 10:\n",
        "\n",
        "squares_of_numbers = [i**2 for i in range(1,11)]\n",
        "print(squares_of_numbers)\n"
      ],
      "metadata": {
        "colab": {
          "base_uri": "https://localhost:8080/"
        },
        "id": "ES0VIe7TK1v2",
        "outputId": "1b8e251d-bd95-46f6-daa6-ff0dcfa49c1c"
      },
      "execution_count": null,
      "outputs": [
        {
          "output_type": "stream",
          "name": "stdout",
          "text": [
            "[1, 4, 9, 16, 25, 36, 49, 64, 81, 100]\n"
          ]
        }
      ]
    },
    {
      "cell_type": "code",
      "source": [
        "#Q19 Create a list of random numbers:\n",
        "\n",
        "import random\n",
        "\n",
        "random_numbers = []\n",
        "for i in range(10):\n",
        "    random_numbers.append(random.randint(0,100))\n",
        "\n",
        "print(random_numbers)\n"
      ],
      "metadata": {
        "colab": {
          "base_uri": "https://localhost:8080/"
        },
        "id": "nTDd9s0GLNCW",
        "outputId": "1a9e5392-e994-4f17-af71-80443f24c226"
      },
      "execution_count": null,
      "outputs": [
        {
          "output_type": "stream",
          "name": "stdout",
          "text": [
            "[64, 97, 52, 95, 32, 11, 81, 9, 67, 68]\n"
          ]
        }
      ]
    },
    {
      "cell_type": "code",
      "source": [
        "#Q19 create a list of random numbers:\n",
        "\n",
        "import random\n",
        "\n",
        "random_numbers = []\n",
        "for i in range(10):\n",
        "    random_numbers.append(random.randint(0,100))\n",
        "\n",
        "print(random_numbers)\n",
        "\n"
      ],
      "metadata": {
        "colab": {
          "base_uri": "https://localhost:8080/"
        },
        "id": "Jt3H1nE1LYwc",
        "outputId": "5d0d4835-c5e8-4c78-e15c-ea9b2d5cd99a"
      },
      "execution_count": null,
      "outputs": [
        {
          "output_type": "stream",
          "name": "stdout",
          "text": [
            "[83, 8, 70, 31, 80, 58, 49, 94, 60, 24]\n"
          ]
        }
      ]
    },
    {
      "cell_type": "code",
      "source": [
        "#Q20 Remove dublicates from a list :\n",
        "\n",
        "my_list = [1,2,3,4,5,5]\n",
        "unique_elements = []\n",
        "for i in my_list:\n",
        "    if i not in unique_elements:\n",
        "        unique_elements.append(i)\n",
        "\n",
        "print(unique_elements)\n"
      ],
      "metadata": {
        "colab": {
          "base_uri": "https://localhost:8080/"
        },
        "id": "--RDXO5vLtVW",
        "outputId": "1f46ed1c-1e4b-4d49-c8e4-6f6efaebb45b"
      },
      "execution_count": null,
      "outputs": [
        {
          "output_type": "stream",
          "name": "stdout",
          "text": [
            "[1, 2, 3, 4, 5]\n"
          ]
        }
      ]
    },
    {
      "cell_type": "code",
      "source": [
        "#Q21 Find the common elements between two lists:\n",
        "\n",
        "list_1 = [1,2,3]\n",
        "list_2 = [3,4]\n",
        "\n",
        "common_elements = []\n",
        "for i in list_1:\n",
        "    if i in list_2 and i not in common_elements:\n",
        "        common_elements.append(i)\n",
        "\n",
        "print(common_elements)\n"
      ],
      "metadata": {
        "colab": {
          "base_uri": "https://localhost:8080/"
        },
        "id": "TImgYdEuMEMB",
        "outputId": "32468ad7-fa47-45a6-962f-658b4ff98285"
      },
      "execution_count": null,
      "outputs": [
        {
          "output_type": "stream",
          "name": "stdout",
          "text": [
            "[3]\n"
          ]
        }
      ]
    },
    {
      "cell_type": "code",
      "source": [
        "#Q22 Find the difference between two list:\n",
        "\n",
        "list_1 = [1, 2, 3]\n",
        "list_2 = [3, 4]\n",
        "\n",
        "difference_between_lists = []\n",
        "for i in list_1:\n",
        "    if i not in list_2 and i not in difference_between_lists:\n",
        "        difference_between_lists.append(i)\n",
        "\n",
        "for j in list_2:\n",
        "    if j not in list_1 and j not in difference_between_lists:\n",
        "        difference_between_lists.append(j)\n",
        "\n",
        "print(difference_between_lists)\n"
      ],
      "metadata": {
        "colab": {
          "base_uri": "https://localhost:8080/"
        },
        "id": "_tqRXUq9OY-e",
        "outputId": "98929cf7-2f9e-48e5-b205-0da143d123a6"
      },
      "execution_count": null,
      "outputs": [
        {
          "output_type": "stream",
          "name": "stdout",
          "text": [
            "[1, 2, 4]\n"
          ]
        }
      ]
    },
    {
      "cell_type": "code",
      "source": [
        "#Q23 Merge two lists:\n",
        "list_1 = [1, 2, 3]\n",
        "list_2 = [4, 5, 6]\n",
        "\n",
        "merged_list = list_1 + list_2\n",
        "print(merged_list)\n",
        "\n"
      ],
      "metadata": {
        "colab": {
          "base_uri": "https://localhost:8080/"
        },
        "id": "J_VwybF9OxuI",
        "outputId": "4b885223-0cd7-402f-fec6-49e55afe8c72"
      },
      "execution_count": null,
      "outputs": [
        {
          "output_type": "stream",
          "name": "stdout",
          "text": [
            "[1, 2, 3, 4, 5, 6]\n"
          ]
        }
      ]
    },
    {
      "cell_type": "code",
      "source": [
        "#Q24 Multiply all elements in a list by 2:\n",
        "my_list = [1, 2, 3]\n",
        "multiplied_list = [i*2 for i in my_list]\n",
        "print(multiplied_list)\n"
      ],
      "metadata": {
        "colab": {
          "base_uri": "https://localhost:8080/"
        },
        "id": "eKAyNLfYRIPq",
        "outputId": "c984116f-34d5-4a99-d9fc-830ee9d53bff"
      },
      "execution_count": null,
      "outputs": [
        {
          "output_type": "stream",
          "name": "stdout",
          "text": [
            "[2, 4, 6]\n"
          ]
        }
      ]
    },
    {
      "cell_type": "code",
      "source": [
        "#Q25 Filter out all even numbers from a list :\n",
        "my_list = [1, 2, 3, 4, 5]\n",
        "filtered_list = [i for i in my_list if i%2!=0]\n",
        "print(filtered_list)\n"
      ],
      "metadata": {
        "colab": {
          "base_uri": "https://localhost:8080/"
        },
        "id": "xugCpeClRV75",
        "outputId": "fb770b09-40dd-4b43-b0a3-e5cbe7fd0de9"
      },
      "execution_count": null,
      "outputs": [
        {
          "output_type": "stream",
          "name": "stdout",
          "text": [
            "[1, 3, 5]\n"
          ]
        }
      ]
    },
    {
      "cell_type": "code",
      "source": [
        "#Q26 Convert a list of strings to a list of integers:\n",
        "\n",
        "my_list = [\"1\", \"2\", \"3\"]\n",
        "int_list = [int(i) for i in my_list]\n",
        "print(int_list)\n"
      ],
      "metadata": {
        "colab": {
          "base_uri": "https://localhost:8080/"
        },
        "id": "JYmkWwHgRj6O",
        "outputId": "70ec08ab-f86d-4fca-e44e-d1658d52c4c1"
      },
      "execution_count": null,
      "outputs": [
        {
          "output_type": "stream",
          "name": "stdout",
          "text": [
            "[1, 2, 3]\n"
          ]
        }
      ]
    },
    {
      "cell_type": "code",
      "source": [
        "#Q27 Convert a list of integers to a strings:\n",
        "my_list = [1, 2, 3]\n",
        "str_list = [str(i) for i in my_list]\n",
        "print(str_list)\n"
      ],
      "metadata": {
        "colab": {
          "base_uri": "https://localhost:8080/"
        },
        "id": "crYDFyDcR3ab",
        "outputId": "eb8f6b7b-9cf3-49d0-ec6b-bfa0a118ebbf"
      },
      "execution_count": null,
      "outputs": [
        {
          "output_type": "stream",
          "name": "stdout",
          "text": [
            "['1', '2', '3']\n"
          ]
        }
      ]
    },
    {
      "cell_type": "code",
      "source": [
        "#Q28 Flatten a nested list:\n",
        "\n",
        "nested_list = [[1, 2], [3, 4], [5, 6]]\n",
        "flattened_list = [j for i in nested_list for j in i]\n",
        "print(flattened_list)\n"
      ],
      "metadata": {
        "colab": {
          "base_uri": "https://localhost:8080/"
        },
        "id": "MK2DmrarSI6S",
        "outputId": "655ecf67-21f0-4f36-aa6f-7232e066f22f"
      },
      "execution_count": null,
      "outputs": [
        {
          "output_type": "stream",
          "name": "stdout",
          "text": [
            "[1, 2, 3, 4, 5, 6]\n"
          ]
        }
      ]
    },
    {
      "cell_type": "code",
      "source": [
        "#Q29 Create a list of the first 10 Fibonacci numbers:\n",
        "\n",
        "fibonacci_list = [0, 1]\n",
        "for i in range(2, 10):\n",
        "    fibonacci_list.append(fibonacci_list[i-1] + fibonacci_list[i-2])\n",
        "\n",
        "print(fibonacci_list)\n"
      ],
      "metadata": {
        "colab": {
          "base_uri": "https://localhost:8080/"
        },
        "id": "qzLuW8puSuzC",
        "outputId": "133067b6-b160-44e9-c3cb-32c3cbfadfe9"
      },
      "execution_count": null,
      "outputs": [
        {
          "output_type": "stream",
          "name": "stdout",
          "text": [
            "[0, 1, 1, 2, 3, 5, 8, 13, 21, 34]\n"
          ]
        }
      ]
    },
    {
      "cell_type": "code",
      "source": [
        "#Q30 Check if a list is sorted:\n",
        "\n",
        "my_list = [1, 2, 3]\n",
        "if my_list == sorted(my_list):\n",
        "    print(\"List is sorted\")\n",
        "else:\n",
        "    print(\"List is not sorted\")\n"
      ],
      "metadata": {
        "colab": {
          "base_uri": "https://localhost:8080/"
        },
        "id": "2nRZCPu3TBtF",
        "outputId": "a6ec51d9-c277-4132-bb6c-af76dcd58c03"
      },
      "execution_count": null,
      "outputs": [
        {
          "output_type": "stream",
          "name": "stdout",
          "text": [
            "List is sorted\n"
          ]
        }
      ]
    },
    {
      "cell_type": "code",
      "source": [
        "#Q31 Rotate a list to the left by n position:\n",
        "my_list = [1, 2, 3, 4, 5]\n",
        "n = 2\n",
        "rotated_list = my_list[n:] + my_list[:n]\n",
        "print(rotated_list)\n"
      ],
      "metadata": {
        "colab": {
          "base_uri": "https://localhost:8080/"
        },
        "id": "DtZQIuQFTNYe",
        "outputId": "39a2bd95-8f57-47ae-dcfa-d601ced5dc69"
      },
      "execution_count": null,
      "outputs": [
        {
          "output_type": "stream",
          "name": "stdout",
          "text": [
            "[3, 4, 5, 1, 2]\n"
          ]
        }
      ]
    },
    {
      "cell_type": "code",
      "source": [
        "#Q32 Rotate a list to the right by n positions:\n",
        "\n",
        "my_list = [1, 2, 3, 4, 5]\n",
        "n = 2\n",
        "rotated_list = my_list[-n:] + my_list[:-n]\n",
        "print(rotated_list)\n"
      ],
      "metadata": {
        "colab": {
          "base_uri": "https://localhost:8080/"
        },
        "id": "z3XMIlpMTda-",
        "outputId": "f5f8c81d-e711-42c8-8c4a-abdaf12b54f8"
      },
      "execution_count": null,
      "outputs": [
        {
          "output_type": "stream",
          "name": "stdout",
          "text": [
            "[4, 5, 1, 2, 3]\n"
          ]
        }
      ]
    },
    {
      "cell_type": "code",
      "source": [
        "#Q33 Create a list of prime numbers up to 50:\n",
        "prime_numbers = []\n",
        "for i in range(2, 51):\n",
        "    is_prime = True\n",
        "    for j in range(2, i):\n",
        "        if i%j == 0:\n",
        "            is_prime = False\n",
        "            break\n",
        "    if is_prime:\n",
        "        prime_numbers.append(i)\n",
        "\n",
        "print(prime_numbers)\n",
        "\n"
      ],
      "metadata": {
        "colab": {
          "base_uri": "https://localhost:8080/"
        },
        "id": "EMM4l2KbTtEj",
        "outputId": "101b752b-b2f3-4ffa-f8c6-007382394fc4"
      },
      "execution_count": null,
      "outputs": [
        {
          "output_type": "stream",
          "name": "stdout",
          "text": [
            "[2, 3, 5, 7, 11, 13, 17, 19, 23, 29, 31, 37, 41, 43, 47]\n"
          ]
        }
      ]
    },
    {
      "cell_type": "code",
      "source": [
        "#Q34 Split a list into chunks of size n:\n",
        "\n",
        "my_list = [1, 2, 3, 4, 5, 6, 7, 8, 9]\n",
        "n = 3\n",
        "chunks = [my_list[i:i+n] for i in range(0, len(my_list), n)]\n",
        "print(chunks)\n"
      ],
      "metadata": {
        "colab": {
          "base_uri": "https://localhost:8080/"
        },
        "id": "u8oUDJUPT58n",
        "outputId": "d25811bf-2243-4e5b-f722-b0717f8b4878"
      },
      "execution_count": null,
      "outputs": [
        {
          "output_type": "stream",
          "name": "stdout",
          "text": [
            "[[1, 2, 3], [4, 5, 6], [7, 8, 9]]\n"
          ]
        }
      ]
    },
    {
      "cell_type": "code",
      "source": [
        "#Q35 Find the second largest numbers in a list:\n",
        "my_list = [1, 2, 3, 4, 5]\n",
        "my_list.sort()\n",
        "second_largest = my_list[-2]\n",
        "print(second_largest)\n"
      ],
      "metadata": {
        "colab": {
          "base_uri": "https://localhost:8080/"
        },
        "id": "9oVaUdJwUKBx",
        "outputId": "94589800-fa99-4c32-d206-b4fb41016b8a"
      },
      "execution_count": null,
      "outputs": [
        {
          "output_type": "stream",
          "name": "stdout",
          "text": [
            "4\n"
          ]
        }
      ]
    },
    {
      "cell_type": "code",
      "source": [
        "#Q36 Replace every element in a list with its square:\n",
        "my_list = [1, 2, 3]\n",
        "squared_list = [i**2 for i in my_list]\n",
        "print(squared_list)\n"
      ],
      "metadata": {
        "colab": {
          "base_uri": "https://localhost:8080/"
        },
        "id": "TaJLQ5LYUWXc",
        "outputId": "4550e82d-a6dc-4e29-b6ec-bd6da507a576"
      },
      "execution_count": null,
      "outputs": [
        {
          "output_type": "stream",
          "name": "stdout",
          "text": [
            "[1, 4, 9]\n"
          ]
        }
      ]
    },
    {
      "cell_type": "code",
      "source": [
        "#Q37 Covert a list to a  dictionary where list elements become keys and their indices become values:\n",
        "my_list = [\"apple\", \"banana\", \"cherry\"]\n",
        "my_dict = {my_list[i]: i for i in range(len(my_list))}\n",
        "print(my_dict)\n"
      ],
      "metadata": {
        "colab": {
          "base_uri": "https://localhost:8080/"
        },
        "id": "9C5O2ED9Ux2O",
        "outputId": "fd51d375-a07d-4e19-8e4e-12c94149e91b"
      },
      "execution_count": null,
      "outputs": [
        {
          "output_type": "stream",
          "name": "stdout",
          "text": [
            "{'apple': 0, 'banana': 1, 'cherry': 2}\n"
          ]
        }
      ]
    },
    {
      "cell_type": "code",
      "source": [
        "#Q38 shuffle the elements of a list randomly:\n",
        "\n",
        "import random\n",
        "\n",
        "my_list = [1, 2, 3, 4, 5]\n",
        "random.shuffle(my_list)\n",
        "print(my_list)\n",
        "\n"
      ],
      "metadata": {
        "id": "B1BTRtkwVJZJ",
        "colab": {
          "base_uri": "https://localhost:8080/"
        },
        "outputId": "e0e69420-d23b-478b-905b-3c9192bb9e9d"
      },
      "execution_count": null,
      "outputs": [
        {
          "output_type": "stream",
          "name": "stdout",
          "text": [
            "[3, 2, 1, 5, 4]\n"
          ]
        }
      ]
    },
    {
      "cell_type": "code",
      "source": [
        "#Q39 create a list of the 10 factorial numbers:\n",
        "\n",
        "factorial_list = []\n",
        "for i in range(1, 11):\n",
        "    factorial = 1\n",
        "    for j in range(1, i+1):\n",
        "        factorial *= j\n",
        "    factorial_list.append(factorial)\n",
        "\n",
        "print(factorial_list)\n"
      ],
      "metadata": {
        "colab": {
          "base_uri": "https://localhost:8080/"
        },
        "id": "gX9bOci7aqTr",
        "outputId": "88a810c6-3f23-4343-8079-a9760760f1d4"
      },
      "execution_count": null,
      "outputs": [
        {
          "output_type": "stream",
          "name": "stdout",
          "text": [
            "[1, 2, 6, 24, 120, 720, 5040, 40320, 362880, 3628800]\n"
          ]
        }
      ]
    },
    {
      "cell_type": "code",
      "source": [
        "#Q40 check if two lists have at least one elements in common:\n",
        "\n",
        "list_1 = [1, 2, 3]\n",
        "list_2 = [3, 4]\n",
        "\n",
        "common_elements = []\n",
        "for i in list_1:\n",
        "    if i in list_2 and i not in common_elements:\n",
        "        common_elements.append(i)\n",
        "\n",
        "if common_elements:\n",
        "    print(\"The two lists have at least one common element\")\n",
        "else:\n",
        "    print(\"The two lists do not have any common elements\")\n",
        "\n"
      ],
      "metadata": {
        "colab": {
          "base_uri": "https://localhost:8080/"
        },
        "id": "ws5veRmhbo-c",
        "outputId": "dbb057f4-2877-4e3f-fb59-ca475e573812"
      },
      "execution_count": null,
      "outputs": [
        {
          "output_type": "stream",
          "name": "stdout",
          "text": [
            "The two lists have at least one common element\n"
          ]
        }
      ]
    },
    {
      "cell_type": "code",
      "source": [
        "#Q41 Remove all elements from a list:\n",
        "my_list = [1, 2, 3]\n",
        "my_list.clear()\n",
        "print(my_list)\n"
      ],
      "metadata": {
        "colab": {
          "base_uri": "https://localhost:8080/"
        },
        "id": "xVVJzcQucDEN",
        "outputId": "1b2a62e7-2fe0-4d2f-e6c2-01826783764f"
      },
      "execution_count": null,
      "outputs": [
        {
          "output_type": "stream",
          "name": "stdout",
          "text": [
            "[]\n"
          ]
        }
      ]
    },
    {
      "cell_type": "code",
      "source": [
        "#Q42 Replace negative numbers in a list with 0:\n",
        "\n",
        "my_list = [1, -2, 3, -4, 5]\n",
        "for i in range(len(my_list)):\n",
        "    if my_list[i] < 0:\n",
        "        my_list[i] = 0\n",
        "\n",
        "print(my_list)\n"
      ],
      "metadata": {
        "colab": {
          "base_uri": "https://localhost:8080/"
        },
        "id": "kTC4ufrhcOSB",
        "outputId": "c0ce84fd-5fdb-4d1f-cc99-287f04fcdb9e"
      },
      "execution_count": null,
      "outputs": [
        {
          "output_type": "stream",
          "name": "stdout",
          "text": [
            "[1, 0, 3, 0, 5]\n"
          ]
        }
      ]
    },
    {
      "cell_type": "code",
      "source": [
        "#Q43 convert a string into a list of words:\n",
        "\n",
        "my_string = \"Hello, how are you?\"\n",
        "word_list = my_string.split()\n",
        "print(word_list)\n"
      ],
      "metadata": {
        "colab": {
          "base_uri": "https://localhost:8080/"
        },
        "id": "kTm29FsSca_4",
        "outputId": "6ade1c00-d8f3-4b1e-afa8-cd108e6b32f4"
      },
      "execution_count": null,
      "outputs": [
        {
          "output_type": "stream",
          "name": "stdout",
          "text": [
            "['Hello,', 'how', 'are', 'you?']\n"
          ]
        }
      ]
    },
    {
      "cell_type": "code",
      "source": [
        "#Q44 covert a list of words into a string :\n",
        "\n",
        "word_list = [\"Hello,\", \"how\", \"are\", \"you?\"]\n",
        "my_string = \" \".join(word_list)\n",
        "print(my_string)\n",
        "\n"
      ],
      "metadata": {
        "colab": {
          "base_uri": "https://localhost:8080/"
        },
        "id": "kFsn-ZDndz8C",
        "outputId": "48e2c01f-777e-4f9f-8be5-f1d40c03ca0b"
      },
      "execution_count": null,
      "outputs": [
        {
          "output_type": "stream",
          "name": "stdout",
          "text": [
            "Hello, how are you?\n"
          ]
        }
      ]
    },
    {
      "cell_type": "code",
      "source": [
        "#Q45 Create a list of the first n powers of 2:\n",
        "\n",
        "n = 5\n",
        "powers_of_two = [2**i for i in range(n)]\n",
        "print(powers_of_two)\n",
        "\n"
      ],
      "metadata": {
        "colab": {
          "base_uri": "https://localhost:8080/"
        },
        "id": "dJLkdSoAeFuE",
        "outputId": "efd00224-43dc-49f0-8435-42022dc4259d"
      },
      "execution_count": null,
      "outputs": [
        {
          "output_type": "stream",
          "name": "stdout",
          "text": [
            "[1, 2, 4, 8, 16]\n"
          ]
        }
      ]
    },
    {
      "cell_type": "code",
      "source": [
        "#Q46 Find the longest string in a list of strings:\n",
        "\n",
        "string_list = [\"apple\", \"banana\", \"cherry\"]\n",
        "longest_string = max(string_list, key=len)\n",
        "print(longest_string)\n"
      ],
      "metadata": {
        "colab": {
          "base_uri": "https://localhost:8080/"
        },
        "id": "3OtV03jIeUSF",
        "outputId": "c55582c2-13ef-4a2b-f8c5-c70aaf522a07"
      },
      "execution_count": null,
      "outputs": [
        {
          "output_type": "stream",
          "name": "stdout",
          "text": [
            "banana\n"
          ]
        }
      ]
    },
    {
      "cell_type": "code",
      "source": [
        "#Q47 Find the shortest string in a list of strings:\n",
        "\n",
        "string_list = [\"apple\", \"banana\", \"cherry\"]\n",
        "shortest_string = min(string_list, key=len)\n",
        "print(shortest_string)\n"
      ],
      "metadata": {
        "colab": {
          "base_uri": "https://localhost:8080/"
        },
        "id": "i0gM5YZAelxn",
        "outputId": "1ffa874c-bd8d-4585-c9a5-18f7b20f0d93"
      },
      "execution_count": null,
      "outputs": [
        {
          "output_type": "stream",
          "name": "stdout",
          "text": [
            "apple\n"
          ]
        }
      ]
    },
    {
      "cell_type": "code",
      "source": [
        "#Q48 create a list of the first n triangular numbers:\n",
        "\n",
        "n = 5\n",
        "triangular_numbers = [i*(i+1)//2 for i in range(1, n+1)]\n",
        "print(triangular_numbers)\n"
      ],
      "metadata": {
        "colab": {
          "base_uri": "https://localhost:8080/"
        },
        "id": "xfD-fguie0KM",
        "outputId": "beb2a62b-866c-4cb1-e4d0-9699e8092984"
      },
      "execution_count": null,
      "outputs": [
        {
          "output_type": "stream",
          "name": "stdout",
          "text": [
            "[1, 3, 6, 10, 15]\n"
          ]
        }
      ]
    },
    {
      "cell_type": "code",
      "source": [
        "#Q49 check if a list contains another list as a subsequence:\n",
        "\n",
        "list_1 = [1, 2, 3, 4, 5]\n",
        "list_2 = [2, 3]\n",
        "\n",
        "if all(x in list_1 for x in list_2):\n",
        "    print(\"List 2 is a subsequence of List 1\")\n",
        "else:\n",
        "    print(\"List 2 is not a subsequence of List 1\")\n",
        "\n",
        "\n",
        "\n",
        "\n"
      ],
      "metadata": {
        "colab": {
          "base_uri": "https://localhost:8080/"
        },
        "id": "HXcsXCp2fCMi",
        "outputId": "d2ddf40c-ed41-4c46-da03-8f030bb7eae2"
      },
      "execution_count": null,
      "outputs": [
        {
          "output_type": "stream",
          "name": "stdout",
          "text": [
            "List 2 is a subsequence of List 1\n"
          ]
        }
      ]
    },
    {
      "cell_type": "code",
      "source": [
        "#Q50 swap two elements in a list by their indices :\n",
        "\n",
        "my_list = [1, 2, 3, 4, 5]\n",
        "index_1 = 1\n",
        "index_2 = 3\n",
        "my_list[index_1], my_list[index_2] = my_list[index_2], my_list[index_1]\n",
        "print(my_list)\n",
        "\n"
      ],
      "metadata": {
        "colab": {
          "base_uri": "https://localhost:8080/"
        },
        "id": "RHsrEDmNfV4z",
        "outputId": "994b814d-6a66-4a5a-c025-0a7d7b30d63f"
      },
      "execution_count": null,
      "outputs": [
        {
          "output_type": "stream",
          "name": "stdout",
          "text": [
            "[1, 4, 3, 2, 5]\n"
          ]
        }
      ]
    },
    {
      "cell_type": "markdown",
      "source": [
        "Tuple Based Practice Problem"
      ],
      "metadata": {
        "id": "KzK_NdaygoAO"
      }
    },
    {
      "cell_type": "code",
      "source": [
        "#Q1 create a tuple with integers from 1 to 5:\n",
        "\n",
        "my_tuple = (1, 2, 3, 4, 5)\n"
      ],
      "metadata": {
        "id": "xj_4IF39fmoC"
      },
      "execution_count": null,
      "outputs": []
    },
    {
      "cell_type": "code",
      "source": [
        "#Q2 Access the third elements of a tuple:\n",
        "my_tuple = (1, 2, 3, 4, 5)\n",
        "third_element = my_tuple[2]\n",
        "print(third_element)\n"
      ],
      "metadata": {
        "colab": {
          "base_uri": "https://localhost:8080/"
        },
        "id": "TvfeIIc6gzwQ",
        "outputId": "275fd063-1e27-4bff-9a54-66317f152266"
      },
      "execution_count": null,
      "outputs": [
        {
          "output_type": "stream",
          "name": "stdout",
          "text": [
            "3\n"
          ]
        }
      ]
    },
    {
      "cell_type": "code",
      "source": [
        "#Q3 Find the length of a tuple without using the len() function:\n",
        "\n",
        "my_tuple = (1, 2, 3, 4, 5)\n",
        "count = 0\n",
        "for _ in my_tuple:\n",
        "    count += 1\n",
        "print(count)\n"
      ],
      "metadata": {
        "colab": {
          "base_uri": "https://localhost:8080/"
        },
        "id": "C4yVPp8chCYv",
        "outputId": "2745a4b6-0a1e-4735-eedb-110f50fa00a5"
      },
      "execution_count": null,
      "outputs": [
        {
          "output_type": "stream",
          "name": "stdout",
          "text": [
            "5\n"
          ]
        }
      ]
    },
    {
      "cell_type": "code",
      "source": [
        "#Q4 count the occurences of an element in a tuple:\n",
        "my_tuple = (1, 2, 3, 2)\n",
        "count = my_tuple.count(2)\n",
        "print(count)\n"
      ],
      "metadata": {
        "colab": {
          "base_uri": "https://localhost:8080/"
        },
        "id": "71ZLvW4WhXUA",
        "outputId": "344697c5-8aaf-4b1e-fdfb-ea60c4680176"
      },
      "execution_count": null,
      "outputs": [
        {
          "output_type": "stream",
          "name": "stdout",
          "text": [
            "2\n"
          ]
        }
      ]
    },
    {
      "cell_type": "code",
      "source": [
        "#Q5 Find the index of the first occurrences of an elements in a tuple:\n",
        "\n",
        "my_tuple = (1, 2, 3)\n",
        "index = my_tuple.index(2)\n",
        "print(index)\n"
      ],
      "metadata": {
        "colab": {
          "base_uri": "https://localhost:8080/"
        },
        "id": "ZI4uK_8XhlfW",
        "outputId": "526a88c2-a38a-472e-a87d-96829bdb95ef"
      },
      "execution_count": null,
      "outputs": [
        {
          "output_type": "stream",
          "name": "stdout",
          "text": [
            "1\n"
          ]
        }
      ]
    },
    {
      "cell_type": "code",
      "source": [
        "#Q6 check if an elements exists in a tuple :\n",
        "\n",
        "my_tuple = (1, 2, 3)\n",
        "if 2 in my_tuple:\n",
        "    print(\"Element exists in the tuple\")\n",
        "else:\n",
        "    print(\"Element does not exist in the tuple\")\n"
      ],
      "metadata": {
        "colab": {
          "base_uri": "https://localhost:8080/"
        },
        "id": "UO5-ZVbqh5W1",
        "outputId": "325bdac1-154e-4d12-930c-4a56377eb0df"
      },
      "execution_count": null,
      "outputs": [
        {
          "output_type": "stream",
          "name": "stdout",
          "text": [
            "Element exists in the tuple\n"
          ]
        }
      ]
    },
    {
      "cell_type": "code",
      "source": [
        "#Q7 covert a tuple to a list:\n",
        "\n",
        " my_tuple = (1, 2, 3)\n",
        "my_list = list(my_tuple)\n",
        "print(my_list)\n"
      ],
      "metadata": {
        "colab": {
          "base_uri": "https://localhost:8080/",
          "height": 141
        },
        "id": "FEtq5YTgiHQE",
        "outputId": "5df569e7-8e19-41c3-8d83-b1dc059156df"
      },
      "execution_count": null,
      "outputs": [
        {
          "output_type": "error",
          "ename": "IndentationError",
          "evalue": "ignored",
          "traceback": [
            "\u001b[0;36m  File \u001b[0;32m\"<ipython-input-22-e57b4b2a3418>\"\u001b[0;36m, line \u001b[0;32m3\u001b[0m\n\u001b[0;31m    my_tuple = (1, 2, 3)\u001b[0m\n\u001b[0m    ^\u001b[0m\n\u001b[0;31mIndentationError\u001b[0m\u001b[0;31m:\u001b[0m unexpected indent\n"
          ]
        }
      ]
    },
    {
      "cell_type": "code",
      "source": [
        "#Q8 covert a list to a tuple :\n",
        "\n",
        "my_list = [1, 2, 3]\n",
        "my_tuple = tuple(my_list)\n",
        "print(my_tuple)\n"
      ],
      "metadata": {
        "colab": {
          "base_uri": "https://localhost:8080/"
        },
        "id": "4AnCChsAiVWt",
        "outputId": "cb3543fb-c116-48c3-84a4-ea0f9a690bb8"
      },
      "execution_count": null,
      "outputs": [
        {
          "output_type": "stream",
          "name": "stdout",
          "text": [
            "(1, 2, 3)\n"
          ]
        }
      ]
    },
    {
      "cell_type": "code",
      "source": [
        "#Q9 Unpack the elements of a tuple into variables:\n",
        "\n",
        "my_tuple = (1, 2, 3)\n",
        "a, b, c = my_tuple\n",
        "print(a)\n",
        "print(b)\n",
        "print(c)\n"
      ],
      "metadata": {
        "id": "DUVm9ifZihZD",
        "colab": {
          "base_uri": "https://localhost:8080/"
        },
        "outputId": "1b5665a1-20fb-4b0b-cca1-9fc499f0c415"
      },
      "execution_count": null,
      "outputs": [
        {
          "output_type": "stream",
          "name": "stdout",
          "text": [
            "1\n",
            "2\n",
            "3\n"
          ]
        }
      ]
    },
    {
      "cell_type": "code",
      "source": [
        "#Q10 create a tuple  of even numbers from 1 to  10 :\n",
        "\n",
        "even_numbers = tuple(i for i in range(1,11) if i%2==0)\n",
        "print(even_numbers)\n"
      ],
      "metadata": {
        "colab": {
          "base_uri": "https://localhost:8080/"
        },
        "id": "0QKWDUhBqhWt",
        "outputId": "1a7b97b3-1d94-4822-f115-067cd5957356"
      },
      "execution_count": null,
      "outputs": [
        {
          "output_type": "stream",
          "name": "stdout",
          "text": [
            "(2, 4, 6, 8, 10)\n"
          ]
        }
      ]
    },
    {
      "cell_type": "code",
      "source": [
        "#Q11 Create a tuple of odd numbers from 1 to 10:\n",
        "\n",
        "odd_numbers = tuple(i for i in range(1,11) if i%2!=0)\n",
        "print(odd_numbers)\n"
      ],
      "metadata": {
        "colab": {
          "base_uri": "https://localhost:8080/"
        },
        "id": "563f5A49qzj2",
        "outputId": "99b3687c-d443-44b2-8308-ab8c1c4eee53"
      },
      "execution_count": null,
      "outputs": [
        {
          "output_type": "stream",
          "name": "stdout",
          "text": [
            "(1, 3, 5, 7, 9)\n"
          ]
        }
      ]
    },
    {
      "cell_type": "code",
      "source": [
        "#Q12 concatenate two tuples:\n",
        "\n",
        "tuple_1 = (1, 2, 3)\n",
        "tuple_2 = (4, 5, 6)\n",
        "concatenated_tuple = tuple_1 + tuple_2\n",
        "print(concatenated_tuple)\n"
      ],
      "metadata": {
        "colab": {
          "base_uri": "https://localhost:8080/"
        },
        "id": "DaS6ebSVrAqv",
        "outputId": "9ac2e3cc-e9eb-42de-ef75-0ea567c89314"
      },
      "execution_count": null,
      "outputs": [
        {
          "output_type": "stream",
          "name": "stdout",
          "text": [
            "(1, 2, 3, 4, 5, 6)\n"
          ]
        }
      ]
    },
    {
      "cell_type": "code",
      "source": [
        "#Q13 Repeat a tuple three times :\n",
        "\n",
        "my_tuple = (1, 2, 3)\n",
        "repeated_tuple = my_tuple * 3\n",
        "print(repeated_tuple)\n"
      ],
      "metadata": {
        "colab": {
          "base_uri": "https://localhost:8080/"
        },
        "id": "GuEK3az0rK3H",
        "outputId": "cbb70e34-3afd-4199-a961-ecbba864ae25"
      },
      "execution_count": null,
      "outputs": [
        {
          "output_type": "stream",
          "name": "stdout",
          "text": [
            "(1, 2, 3, 1, 2, 3, 1, 2, 3)\n"
          ]
        }
      ]
    },
    {
      "cell_type": "code",
      "source": [
        "#Q14 check if a tuple is empty:\n",
        "\n",
        "my_tuple = ()\n",
        "if not my_tuple:\n",
        "    print(\"Tuple is empty\")\n",
        "else:\n",
        "    print(\"Tuple is not empty\")\n"
      ],
      "metadata": {
        "colab": {
          "base_uri": "https://localhost:8080/"
        },
        "id": "J5fE-O0StRsM",
        "outputId": "922b1506-5d4e-4799-b009-9b1c317db0cf"
      },
      "execution_count": null,
      "outputs": [
        {
          "output_type": "stream",
          "name": "stdout",
          "text": [
            "Tuple is empty\n"
          ]
        }
      ]
    },
    {
      "cell_type": "code",
      "source": [
        "#Q15 Create  a nested tuple:\n",
        "my_tuple = ((1, 2), (3, 4))\n",
        "print(my_tuple)\n"
      ],
      "metadata": {
        "colab": {
          "base_uri": "https://localhost:8080/"
        },
        "id": "hurqL3crtcHL",
        "outputId": "fcd6bea1-2315-45d0-b3fb-b53d0244c3f1"
      },
      "execution_count": null,
      "outputs": [
        {
          "output_type": "stream",
          "name": "stdout",
          "text": [
            "((1, 2), (3, 4))\n"
          ]
        }
      ]
    },
    {
      "cell_type": "code",
      "source": [
        "#Q16 Access the first elements of a nested tuple:\n",
        "my_tuple = ((1, 2), (3, 4))\n",
        "first_element = my_tuple[0][0]\n",
        "print(first_element)\n"
      ],
      "metadata": {
        "colab": {
          "base_uri": "https://localhost:8080/"
        },
        "id": "DZH-ru9XtwK_",
        "outputId": "6c707f64-f0d4-4b75-c393-54c988cc054d"
      },
      "execution_count": null,
      "outputs": [
        {
          "output_type": "stream",
          "name": "stdout",
          "text": [
            "1\n"
          ]
        }
      ]
    },
    {
      "cell_type": "code",
      "source": [
        "#Q17 create a tuple with a single  element:\n",
        "my_tuple = (1,)\n",
        "print(my_tuple)\n",
        "-+"
      ],
      "metadata": {
        "colab": {
          "base_uri": "https://localhost:8080/"
        },
        "id": "17CmdRq0t6Wy",
        "outputId": "a2d2f245-2cbb-498a-b7aa-cfaad5769ffb"
      },
      "execution_count": null,
      "outputs": [
        {
          "output_type": "stream",
          "name": "stdout",
          "text": [
            "(1,)\n"
          ]
        }
      ]
    },
    {
      "cell_type": "code",
      "source": [
        "#Q18 compare two tuples:\n",
        "tuple_1 = (1, 2, 3)\n",
        "tuple_2 = (1, 2, 3)\n",
        "if tuple_1 == tuple_2:\n",
        "    print(\"The two tuples are equal\")\n",
        "else:\n",
        "    print(\"The two tuples are not equal\")\n"
      ],
      "metadata": {
        "colab": {
          "base_uri": "https://localhost:8080/"
        },
        "id": "nLmjNFMvuHd6",
        "outputId": "46cbe8c9-a503-41b3-d320-b051923f9e3d"
      },
      "execution_count": null,
      "outputs": [
        {
          "output_type": "stream",
          "name": "stdout",
          "text": [
            "The two tuples are equal\n"
          ]
        }
      ]
    },
    {
      "cell_type": "code",
      "source": [
        "#Q19 Delete a tuple:\n",
        "my_tuple = (1, 2, 3)\n",
        "del my_tuple\n"
      ],
      "metadata": {
        "id": "gnUOu0W-vEuH"
      },
      "execution_count": null,
      "outputs": []
    },
    {
      "cell_type": "code",
      "source": [
        "#Q20 slice a tuple:\n",
        "my_tuple = (1, 2, 3, 4, 5)\n",
        "sliced_tuple = my_tuple[1:4]\n",
        "print(sliced_tuple)\n"
      ],
      "metadata": {
        "colab": {
          "base_uri": "https://localhost:8080/"
        },
        "id": "v8e5zxURwf5B",
        "outputId": "81058add-b1b7-4cc4-d664-833895b14f5c"
      },
      "execution_count": null,
      "outputs": [
        {
          "output_type": "stream",
          "name": "stdout",
          "text": [
            "(2, 3, 4)\n"
          ]
        }
      ]
    },
    {
      "cell_type": "code",
      "source": [
        "#Q21 Find the maximum value in a tuple:\n",
        "\n",
        "my_tuple = (1, 2, 3)\n",
        "max_value = max(my_tuple)\n",
        "print(max_value)\n"
      ],
      "metadata": {
        "colab": {
          "base_uri": "https://localhost:8080/"
        },
        "id": "DKg4XOY-wnEp",
        "outputId": "2de292ec-aaf9-4711-d631-29bb93552c16"
      },
      "execution_count": null,
      "outputs": [
        {
          "output_type": "stream",
          "name": "stdout",
          "text": [
            "3\n"
          ]
        }
      ]
    },
    {
      "cell_type": "code",
      "source": [
        "#Q22 Find the minimum value in a tuple:\n",
        "my_tuple = (1, 2, 3)\n",
        "min_value = min(my_tuple)\n",
        "print(min_value)\n"
      ],
      "metadata": {
        "colab": {
          "base_uri": "https://localhost:8080/"
        },
        "id": "fRtRLo_6wxI6",
        "outputId": "f49a8336-27d8-402d-d4d9-d2f5604283a2"
      },
      "execution_count": null,
      "outputs": [
        {
          "output_type": "stream",
          "name": "stdout",
          "text": [
            "1\n"
          ]
        }
      ]
    },
    {
      "cell_type": "code",
      "source": [
        "#Q23 Convert a string to a tuple of characters:\n",
        "my_string = \"hello\"\n",
        "char_tuple = tuple(my_string)\n",
        "print(char_tuple)\n",
        "\n",
        "\n"
      ],
      "metadata": {
        "colab": {
          "base_uri": "https://localhost:8080/"
        },
        "id": "GMjkgo0Nw7Uu",
        "outputId": "04955e76-cee6-46bc-8abd-52c695cd7786"
      },
      "execution_count": null,
      "outputs": [
        {
          "output_type": "stream",
          "name": "stdout",
          "text": [
            "('h', 'e', 'l', 'l', 'o')\n"
          ]
        }
      ]
    },
    {
      "cell_type": "code",
      "source": [
        "#Q24 Converts a tuple of characters to a string:\n",
        "\n",
        "char_tuple = ('h', 'e', 'l', 'l', 'o')\n",
        "my_string = ''.join(char_tuple)\n",
        "print(my_string)\n"
      ],
      "metadata": {
        "colab": {
          "base_uri": "https://localhost:8080/"
        },
        "id": "p0ssRX1_xHqH",
        "outputId": "705bd26c-92b2-411d-edfa-6ad62883d236"
      },
      "execution_count": null,
      "outputs": [
        {
          "output_type": "stream",
          "name": "stdout",
          "text": [
            "hello\n"
          ]
        }
      ]
    },
    {
      "cell_type": "code",
      "source": [
        "#Q25 create a tuple from multiple data types:\n",
        "my_tuple = (1, \"hello\", 3.4)\n",
        "print(my_tuple)\n"
      ],
      "metadata": {
        "colab": {
          "base_uri": "https://localhost:8080/"
        },
        "id": "LdTQafb03iLF",
        "outputId": "9d335ddf-3c33-460e-fcda-e0ffc6f90ec5"
      },
      "execution_count": null,
      "outputs": [
        {
          "output_type": "stream",
          "name": "stdout",
          "text": [
            "(1, 'hello', 3.4)\n"
          ]
        }
      ]
    },
    {
      "cell_type": "code",
      "source": [
        "#Q26 check if two tuples are identical:\n",
        "tuple_1 = (1, 2, 3)\n",
        "tuple_2 = (1, 2, 3)\n",
        "if tuple_1 == tuple_2:\n",
        "    print(\"The two tuples are identical\")\n",
        "else:\n",
        "    print(\"The two tuples are not identical\")\n"
      ],
      "metadata": {
        "colab": {
          "base_uri": "https://localhost:8080/"
        },
        "id": "jwkh5EUx3wOL",
        "outputId": "b5860b81-7775-4e31-bfa9-7806840ba689"
      },
      "execution_count": null,
      "outputs": [
        {
          "output_type": "stream",
          "name": "stdout",
          "text": [
            "The two tuples are identical\n"
          ]
        }
      ]
    },
    {
      "cell_type": "code",
      "source": [
        "#Q27 sort the elements of a tuple:\n",
        "my_tuple = (3, 1, 2)\n",
        "sorted_tuple = tuple(sorted(my_tuple))\n",
        "print(sorted_tuple)\n"
      ],
      "metadata": {
        "colab": {
          "base_uri": "https://localhost:8080/"
        },
        "id": "CRYZpxVh4F5R",
        "outputId": "71e36843-2b21-47f7-b72c-9abeb6fb6988"
      },
      "execution_count": null,
      "outputs": [
        {
          "output_type": "stream",
          "name": "stdout",
          "text": [
            "(1, 2, 3)\n"
          ]
        }
      ]
    },
    {
      "cell_type": "code",
      "source": [
        "#Q28 convert a tuple of integers to a tuple of strings:\n",
        "my_tuple = (1, 2, 3)\n",
        "str_tuple = tuple(str(i) for i in my_tuple)\n",
        "print(str_tuple)\n"
      ],
      "metadata": {
        "colab": {
          "base_uri": "https://localhost:8080/"
        },
        "id": "u5EMKYwf4RJB",
        "outputId": "cc987fa3-808a-4409-9f28-e434510a8562"
      },
      "execution_count": null,
      "outputs": [
        {
          "output_type": "stream",
          "name": "stdout",
          "text": [
            "('1', '2', '3')\n"
          ]
        }
      ]
    },
    {
      "cell_type": "code",
      "source": [
        "#Q29 convert a tuple of strings to a tuple of integers:\n",
        "my_tuple = (\"1\", \"2\", \"3\")\n",
        "int_tuple = tuple(int(i) for i in my_tuple)\n",
        "print(int_tuple)\n",
        "\n",
        "\n"
      ],
      "metadata": {
        "colab": {
          "base_uri": "https://localhost:8080/"
        },
        "id": "CgRqHlju4dQ7",
        "outputId": "a0e4f4ab-53ef-4d69-d51a-ed6ec2966a30"
      },
      "execution_count": null,
      "outputs": [
        {
          "output_type": "stream",
          "name": "stdout",
          "text": [
            "(1, 2, 3)\n"
          ]
        }
      ]
    },
    {
      "cell_type": "code",
      "source": [
        "#Q30 Merge two tuples:\n",
        "tuple_1 = (1, 2, 3)\n",
        "tuple_2 = (4, 5, 6)\n",
        "merged_tuple = tuple_1 + tuple_2\n",
        "print(merged_tuple)\n"
      ],
      "metadata": {
        "colab": {
          "base_uri": "https://localhost:8080/"
        },
        "id": "fYxWhb_t44_P",
        "outputId": "66a203ed-8493-4947-9c7f-7267cc7e7056"
      },
      "execution_count": null,
      "outputs": [
        {
          "output_type": "stream",
          "name": "stdout",
          "text": [
            "(1, 2, 3, 4, 5, 6)\n"
          ]
        }
      ]
    },
    {
      "cell_type": "code",
      "source": [
        "#Q31 Flatten a nested tuple:\n",
        "nested_tuple = ((1, 2), (3, 4), (5, 6))\n",
        "flattened_tuple = tuple(j for i in nested_tuple for j in i)\n",
        "print(flattened_tuple)\n"
      ],
      "metadata": {
        "colab": {
          "base_uri": "https://localhost:8080/"
        },
        "id": "zKlV_qoY5lZ2",
        "outputId": "c9a7ebb2-96ef-4c63-af1f-ed07481f3f8d"
      },
      "execution_count": null,
      "outputs": [
        {
          "output_type": "stream",
          "name": "stdout",
          "text": [
            "(1, 2, 3, 4, 5, 6)\n"
          ]
        }
      ]
    },
    {
      "cell_type": "code",
      "source": [
        "#Q32 create a tuple of the first 5 prime numbers:\n",
        "prime_numbers = (2, 3, 5, 7, 11)\n",
        "print(prime_numbers)\n"
      ],
      "metadata": {
        "colab": {
          "base_uri": "https://localhost:8080/"
        },
        "id": "olLJM0hu5uI-",
        "outputId": "759f00bc-bbe7-46ff-e719-95b7d0350ec1"
      },
      "execution_count": null,
      "outputs": [
        {
          "output_type": "stream",
          "name": "stdout",
          "text": [
            "(2, 3, 5, 7, 11)\n"
          ]
        }
      ]
    },
    {
      "cell_type": "code",
      "source": [
        "#Q33 check if a tuple is a palindrome:\n",
        "my_tuple = (1, 2, 3, 2, 1)\n",
        "if my_tuple == my_tuple[::-1]:\n",
        "    print(\"The tuple is a palindrome\")\n",
        "else:\n",
        "    print(\"The tuple is not a palindrome\")\n"
      ],
      "metadata": {
        "colab": {
          "base_uri": "https://localhost:8080/"
        },
        "id": "27_zgoUj54dD",
        "outputId": "292711e0-7099-4eda-d906-9c2104c77660"
      },
      "execution_count": null,
      "outputs": [
        {
          "output_type": "stream",
          "name": "stdout",
          "text": [
            "The tuple is a palindrome\n"
          ]
        }
      ]
    },
    {
      "cell_type": "code",
      "source": [
        "#Q34 create a tuple of squares of numbers from 1 to 5:\n",
        "squares_tuple = tuple(i**2 for i in range(1,6))\n",
        "print(squares_tuple)\n"
      ],
      "metadata": {
        "colab": {
          "base_uri": "https://localhost:8080/"
        },
        "id": "9nmXgJcp6FJe",
        "outputId": "46765520-219a-49f3-bda5-b1f5f98a4954"
      },
      "execution_count": null,
      "outputs": [
        {
          "output_type": "stream",
          "name": "stdout",
          "text": [
            "(1, 4, 9, 16, 25)\n"
          ]
        }
      ]
    },
    {
      "cell_type": "code",
      "source": [
        "#Q35 Filter out all even numbers from a tuple :\n",
        "my_tuple = (1, 2, 3, 4, 5)\n",
        "filtered_tuple = tuple(i for i in my_tuple if i%2!=0)\n",
        "print(filtered_tuple)\n"
      ],
      "metadata": {
        "colab": {
          "base_uri": "https://localhost:8080/"
        },
        "id": "U1T4hWHi6Qst",
        "outputId": "d0662491-5e10-4b2c-99c3-401fd1d0fd59"
      },
      "execution_count": null,
      "outputs": [
        {
          "output_type": "stream",
          "name": "stdout",
          "text": [
            "(1, 3, 5)\n"
          ]
        }
      ]
    },
    {
      "cell_type": "code",
      "source": [
        "#Q36 Multiply all elements in a tuple by 2:\n",
        "my_tuple = (1, 2, 3)\n",
        "multiplied_tuple = tuple(i*2 for i in my_tuple)\n",
        "print(multiplied_tuple)\n"
      ],
      "metadata": {
        "colab": {
          "base_uri": "https://localhost:8080/"
        },
        "id": "7CjAZOGc6brD",
        "outputId": "498f8d75-8aa6-4451-b119-99aca7aebd71"
      },
      "execution_count": null,
      "outputs": [
        {
          "output_type": "stream",
          "name": "stdout",
          "text": [
            "(2, 4, 6)\n"
          ]
        }
      ]
    },
    {
      "cell_type": "code",
      "source": [
        "#Q37 Create a tuple of random numbers:\n",
        "import random\n",
        "\n",
        "random_tuple = tuple(random.randint(0, 100) for _ in range(5))\n",
        "print(random_tuple)\n"
      ],
      "metadata": {
        "colab": {
          "base_uri": "https://localhost:8080/"
        },
        "id": "qAvyVB-m6mL5",
        "outputId": "28d4914b-813f-4d48-d8d1-78b7f65538cc"
      },
      "execution_count": null,
      "outputs": [
        {
          "output_type": "stream",
          "name": "stdout",
          "text": [
            "(63, 96, 78, 16, 65)\n"
          ]
        }
      ]
    },
    {
      "cell_type": "code",
      "source": [
        "#Q38 check if a tuple is sorted:\n",
        "my_tuple = (1, 2, 3)\n",
        "if my_tuple == tuple(sorted(my_tuple)):\n",
        "    print(\"Tuple is sorted\")\n",
        "else:\n",
        "    print(\"Tuple is not sorted\")\n"
      ],
      "metadata": {
        "colab": {
          "base_uri": "https://localhost:8080/"
        },
        "id": "LVO8pJEQ-ttd",
        "outputId": "c505b6a6-e339-4fb0-ffff-b3721867f8b2"
      },
      "execution_count": null,
      "outputs": [
        {
          "output_type": "stream",
          "name": "stdout",
          "text": [
            "Tuple is sorted\n"
          ]
        }
      ]
    },
    {
      "cell_type": "code",
      "source": [
        "#Q39 Rotate a tuple to the left by n position:\n",
        "my_tuple = (1, 2, 3, 4, 5)\n",
        "n = 2\n",
        "rotated_tuple = my_tuple[n:] + my_tuple[:n]\n",
        "print(rotated_tuple)\n"
      ],
      "metadata": {
        "colab": {
          "base_uri": "https://localhost:8080/"
        },
        "id": "nzO_OZHX-2Si",
        "outputId": "6d79d82a-af52-4b02-9403-305a71b90b35"
      },
      "execution_count": null,
      "outputs": [
        {
          "output_type": "stream",
          "name": "stdout",
          "text": [
            "(3, 4, 5, 1, 2)\n"
          ]
        }
      ]
    },
    {
      "cell_type": "code",
      "source": [
        "#Q40 Rotate a tuple to the right by n position:\n",
        "my_tuple = (1, 2, 3, 4, 5)\n",
        "n = 2\n",
        "rotated_tuple = my_tuple[-n:] + my_tuple[:-n]\n",
        "print(rotated_tuple)\n"
      ],
      "metadata": {
        "colab": {
          "base_uri": "https://localhost:8080/"
        },
        "id": "TrBG3v3u_HjI",
        "outputId": "90bee9f8-df5d-4977-cc14-513bb943d025"
      },
      "execution_count": null,
      "outputs": [
        {
          "output_type": "stream",
          "name": "stdout",
          "text": [
            "(4, 5, 1, 2, 3)\n"
          ]
        }
      ]
    },
    {
      "cell_type": "code",
      "source": [
        "#Q41 Create a tuple of the firt 5 fibonacci numbers :\n",
        "fibonacci_tuple = (0, 1)\n",
        "for i in range(2, 5):\n",
        "    fibonacci_tuple += (fibonacci_tuple[i-1] + fibonacci_tuple[i-2],)\n",
        "\n",
        "print(fibonacci_tuple)\n"
      ],
      "metadata": {
        "colab": {
          "base_uri": "https://localhost:8080/"
        },
        "id": "q70FZyHn_SAU",
        "outputId": "937f011d-eb18-4c36-e2db-197393de0ef2"
      },
      "execution_count": null,
      "outputs": [
        {
          "output_type": "stream",
          "name": "stdout",
          "text": [
            "(0, 1, 1, 2, 3)\n"
          ]
        }
      ]
    },
    {
      "cell_type": "code",
      "source": [
        "#Q42 Swap two elements in a tuple:\n",
        "\n",
        "my_tuple = (1, 2, 3, 4, 5)\n",
        "index_1 = 1\n",
        "index_2 = 3\n",
        "my_list = list(my_tuple)\n",
        "my_list[index_1], my_list[index_2] = my_list[index_2], my_list[index_1]\n",
        "my_tuple = tuple(my_list)\n",
        "print(my_tuple)\n"
      ],
      "metadata": {
        "colab": {
          "base_uri": "https://localhost:8080/"
        },
        "id": "60604cih_iPY",
        "outputId": "84b81a63-46df-49d1-ced3-a456828ed583"
      },
      "execution_count": null,
      "outputs": [
        {
          "output_type": "stream",
          "name": "stdout",
          "text": [
            "(1, 4, 3, 2, 5)\n"
          ]
        }
      ]
    },
    {
      "cell_type": "code",
      "source": [
        "#Q43 swap two elements in a tuple:\n",
        "my_tuple = (1, 2, 3, 4, 5)\n",
        "index_1 = 1\n",
        "index_2 = 3\n",
        "my_list = list(my_tuple)\n",
        "my_list[index_1], my_list[index_2] = my_list[index_2], my_list[index_1]\n",
        "my_tuple = tuple(my_list)\n",
        "print(my_tuple)\n"
      ],
      "metadata": {
        "colab": {
          "base_uri": "https://localhost:8080/"
        },
        "id": "x2maYLjG_yQr",
        "outputId": "8074c386-0baa-48d8-c425-9cc9e3ea8277"
      },
      "execution_count": null,
      "outputs": [
        {
          "output_type": "stream",
          "name": "stdout",
          "text": [
            "(1, 4, 3, 2, 5)\n"
          ]
        }
      ]
    },
    {
      "cell_type": "code",
      "source": [
        "#Q44 Reverse the elements of a tuple:\n",
        "my_tuple = (1, 2, 3)\n",
        "reversed_tuple = my_tuple[::-1]\n",
        "print(reversed_tuple)\n"
      ],
      "metadata": {
        "colab": {
          "base_uri": "https://localhost:8080/"
        },
        "id": "i2R7D3mPAB0u",
        "outputId": "51ac4f05-6862-4660-ef96-1a8bf0848f0d"
      },
      "execution_count": null,
      "outputs": [
        {
          "output_type": "stream",
          "name": "stdout",
          "text": [
            "(3, 2, 1)\n"
          ]
        }
      ]
    },
    {
      "cell_type": "code",
      "source": [
        "#Q45 Create a tuple of the first n powers of 2:\n",
        "n = 5\n",
        "powers_of_two = tuple(2**i for i in range(n))\n",
        "print(powers_of_two)\n"
      ],
      "metadata": {
        "colab": {
          "base_uri": "https://localhost:8080/"
        },
        "id": "X3MV5SQ7AL6Q",
        "outputId": "6324d449-dbed-4572-c1c6-34df3bbc4578"
      },
      "execution_count": null,
      "outputs": [
        {
          "output_type": "stream",
          "name": "stdout",
          "text": [
            "(1, 2, 4, 8, 16)\n"
          ]
        }
      ]
    },
    {
      "cell_type": "code",
      "source": [
        "#Q46 Find the longest string in a tuple of string :\n",
        "string_tuple = (\"apple\", \"banana\", \"cherry\")\n",
        "longest_string = max(string_tuple, key=len)\n",
        "print(longest_string)\n"
      ],
      "metadata": {
        "colab": {
          "base_uri": "https://localhost:8080/"
        },
        "id": "WORysIY4AV_d",
        "outputId": "3e1f588d-e0f7-4ef3-d7af-ebfb0c2af1f0"
      },
      "execution_count": null,
      "outputs": [
        {
          "output_type": "stream",
          "name": "stdout",
          "text": [
            "banana\n"
          ]
        }
      ]
    },
    {
      "cell_type": "code",
      "source": [
        "#Q47 Find the shortest string in a tuple of strings:\n",
        "string_tuple = (\"apple\", \"banana\", \"cherry\")\n",
        "shortest_string = min(string_tuple, key=len)\n",
        "print(shortest_string)\n"
      ],
      "metadata": {
        "colab": {
          "base_uri": "https://localhost:8080/"
        },
        "id": "p-o_dSQHAgY5",
        "outputId": "615064b5-0481-4f31-f3d5-9f4053782a0f"
      },
      "execution_count": null,
      "outputs": [
        {
          "output_type": "stream",
          "name": "stdout",
          "text": [
            "apple\n"
          ]
        }
      ]
    },
    {
      "cell_type": "code",
      "source": [
        "#Q48 Create a tuple of the first n triangular numbers:\n",
        "n = 5\n",
        "triangular_numbers = tuple(i*(i+1)//2 for i in range(1, n+1))\n",
        "print(triangular_numbers)\n",
        "\n"
      ],
      "metadata": {
        "colab": {
          "base_uri": "https://localhost:8080/"
        },
        "id": "5EMDMqutA7VO",
        "outputId": "a369e2a1-f58a-4e57-8c87-352ddce633f9"
      },
      "execution_count": null,
      "outputs": [
        {
          "output_type": "stream",
          "name": "stdout",
          "text": [
            "(1, 3, 6, 10, 15)\n"
          ]
        }
      ]
    },
    {
      "cell_type": "code",
      "source": [
        "#Q49 check if a tuple contains another tuple as a subsequence:\n",
        "tuple_1 = (1, 2, 3, 4, 5)\n",
        "tuple_2 = (2, 3)\n",
        "\n",
        "if all(x in tuple_1 for x in tuple_2):\n",
        "    print(\"Tuple 2 is a subsequence of Tuple 1\")\n",
        "else:\n",
        "    print(\"Tuple 2 is not a subsequence of Tuple 1\")\n"
      ],
      "metadata": {
        "colab": {
          "base_uri": "https://localhost:8080/"
        },
        "id": "_sxSyowOBIYi",
        "outputId": "6c60fcaf-f6f0-4606-af56-54fbed1d2f15"
      },
      "execution_count": null,
      "outputs": [
        {
          "output_type": "stream",
          "name": "stdout",
          "text": [
            "Tuple 2 is a subsequence of Tuple 1\n"
          ]
        }
      ]
    },
    {
      "cell_type": "code",
      "source": [
        "#Q50 Create a tuple of alternating 1s and 0s of length n:\n",
        "n = 5\n",
        "alternating_tuple = tuple((i+1)%2 for i in range(n))\n",
        "print(alternating_tuple)\n"
      ],
      "metadata": {
        "colab": {
          "base_uri": "https://localhost:8080/"
        },
        "id": "JxwZ6tHEBZyi",
        "outputId": "9faa2fe0-2007-4dab-d5be-6ff3df32dda4"
      },
      "execution_count": null,
      "outputs": [
        {
          "output_type": "stream",
          "name": "stdout",
          "text": [
            "(1, 0, 1, 0, 1)\n"
          ]
        }
      ]
    },
    {
      "cell_type": "markdown",
      "source": [
        "Set Based Practice Problem :\n"
      ],
      "metadata": {
        "id": "NZ2IAeEYzALD"
      }
    },
    {
      "cell_type": "code",
      "source": [
        "#Q1 create a set with integers from 1 to 5:\n",
        "set1 = {1, 2, 3, 4, 5}\n"
      ],
      "metadata": {
        "id": "R2fuy1H2BuXX"
      },
      "execution_count": 1,
      "outputs": []
    },
    {
      "cell_type": "code",
      "source": [
        "#Q2 Add an element to a set.\n",
        "set1.add(6)\n"
      ],
      "metadata": {
        "id": "Kc9X3CLc0Tqy"
      },
      "execution_count": 2,
      "outputs": []
    },
    {
      "cell_type": "code",
      "source": [
        "#Q3 Remove an element from a set:\n",
        "set1.remove(3)\n"
      ],
      "metadata": {
        "id": "JidrQQw_0dIO"
      },
      "execution_count": 3,
      "outputs": []
    },
    {
      "cell_type": "code",
      "source": [
        "#Q4 check if an element exists in a set:\n",
        "if 3 in set1:\n",
        "    print(\"3 exists in set1\")\n",
        "else:\n",
        "    print(\"3 does not exist in set1\")\n"
      ],
      "metadata": {
        "colab": {
          "base_uri": "https://localhost:8080/"
        },
        "id": "xYfo-98I0ntG",
        "outputId": "efb2cea3-f878-4cd1-f8b8-549c82446890"
      },
      "execution_count": 4,
      "outputs": [
        {
          "output_type": "stream",
          "name": "stdout",
          "text": [
            "3 does not exist in set1\n"
          ]
        }
      ]
    },
    {
      "cell_type": "code",
      "source": [
        "#Q5  Find the length of a set without using  the len() function.\n",
        "count = 0\n",
        "for _ in set1:\n",
        "    count += 1\n",
        "print(count)\n"
      ],
      "metadata": {
        "colab": {
          "base_uri": "https://localhost:8080/"
        },
        "id": "i1DSlokx0xgi",
        "outputId": "60681462-c11f-45ea-da6b-0486446f5b5f"
      },
      "execution_count": 5,
      "outputs": [
        {
          "output_type": "stream",
          "name": "stdout",
          "text": [
            "5\n"
          ]
        }
      ]
    },
    {
      "cell_type": "code",
      "source": [
        "#Q6 clear all elements from a set:\n",
        "set1.clear()\n"
      ],
      "metadata": {
        "id": "bUpg2jyv1DfA"
      },
      "execution_count": 6,
      "outputs": []
    },
    {
      "cell_type": "code",
      "source": [
        "#Q7 create a set of even numbers from 1 to 10.\n",
        "set2 = {2, 4, 6, 8, 10}\n"
      ],
      "metadata": {
        "id": "e6XCKL_b1OW0"
      },
      "execution_count": 7,
      "outputs": []
    },
    {
      "cell_type": "code",
      "source": [
        "#Q8 create a set of odd numbers from 1 to 10:\n",
        "set3 = {1, 3, 5, 7, 9}\n"
      ],
      "metadata": {
        "id": "N6l2hhgL1Z-4"
      },
      "execution_count": 8,
      "outputs": []
    },
    {
      "cell_type": "code",
      "source": [
        "#Q9 find the union of two sets:\n",
        "set4 = set2.union(set3)\n"
      ],
      "metadata": {
        "id": "cDG_wYt91lhn"
      },
      "execution_count": 9,
      "outputs": []
    },
    {
      "cell_type": "code",
      "source": [
        "#Q10 find the intersection of two sets:\n",
        "set5 = set2.intersection(set3)\n"
      ],
      "metadata": {
        "id": "PWo_x3Vp1vlS"
      },
      "execution_count": 10,
      "outputs": []
    },
    {
      "cell_type": "code",
      "source": [
        "#Q11 Find the difference between two sets:\n",
        "set6 = set2.difference(set3)\n"
      ],
      "metadata": {
        "id": "Cu2d1uFk1-aS"
      },
      "execution_count": 11,
      "outputs": []
    },
    {
      "cell_type": "code",
      "source": [
        "#Q12 check if a set is a subset of another set:\n",
        "if set2.issubset(set4):\n",
        "    print(\"set2 is a subset of set4\")\n",
        "else:\n",
        "    print(\"set2 is not a subset of set4\")\n"
      ],
      "metadata": {
        "colab": {
          "base_uri": "https://localhost:8080/"
        },
        "id": "kO-0Hza_2GjM",
        "outputId": "2bdec29d-7e74-4bcd-e609-31b631c9fd7b"
      },
      "execution_count": 12,
      "outputs": [
        {
          "output_type": "stream",
          "name": "stdout",
          "text": [
            "set2 is a subset of set4\n"
          ]
        }
      ]
    },
    {
      "cell_type": "code",
      "source": [
        "#Q13 check if a set a superset of another set:\n",
        "if set4.issuperset(set2):\n",
        "    print(\"set4 is a superset of set2\")\n",
        "else:\n",
        "    print(\"set4 is not a superset of set2\")\n"
      ],
      "metadata": {
        "colab": {
          "base_uri": "https://localhost:8080/"
        },
        "id": "JS2Tjm4X2Qbl",
        "outputId": "14c77a28-c013-42ac-da60-7261e9ed7b77"
      },
      "execution_count": 13,
      "outputs": [
        {
          "output_type": "stream",
          "name": "stdout",
          "text": [
            "set4 is a superset of set2\n"
          ]
        }
      ]
    },
    {
      "cell_type": "code",
      "source": [
        "#Q14 create a set from a list :\n",
        "list1 = [1, 2, 3, 4, 5]\n",
        "set7 = set(list1)\n"
      ],
      "metadata": {
        "id": "vTyCrF2S2aRM"
      },
      "execution_count": 14,
      "outputs": []
    },
    {
      "cell_type": "code",
      "source": [
        "#Q15 COnvert a set to a list :\n",
        "list2 = list(set7)\n"
      ],
      "metadata": {
        "id": "-ME5IeAu2hog"
      },
      "execution_count": 15,
      "outputs": []
    },
    {
      "cell_type": "code",
      "source": [
        "#Q16 Remove a random element from a set:\n",
        "set7.pop()\n"
      ],
      "metadata": {
        "colab": {
          "base_uri": "https://localhost:8080/"
        },
        "id": "aozZA8Dm2peQ",
        "outputId": "0e989a35-b75b-4dd3-8ac6-6a5176ade0fb"
      },
      "execution_count": 16,
      "outputs": [
        {
          "output_type": "execute_result",
          "data": {
            "text/plain": [
              "1"
            ]
          },
          "metadata": {},
          "execution_count": 16
        }
      ]
    },
    {
      "cell_type": "code",
      "source": [
        "#Q17 Pop an element from a set:\n",
        "set7.pop()\n"
      ],
      "metadata": {
        "colab": {
          "base_uri": "https://localhost:8080/"
        },
        "id": "HcSaRlN02xfQ",
        "outputId": "f5cd3780-bb9e-4ce6-9550-1c146cd66bfc"
      },
      "execution_count": 17,
      "outputs": [
        {
          "output_type": "execute_result",
          "data": {
            "text/plain": [
              "2"
            ]
          },
          "metadata": {},
          "execution_count": 17
        }
      ]
    },
    {
      "cell_type": "code",
      "source": [
        "#Q18 check if two sets have no elements in common:\n",
        "if set2.isdisjoint(set3):\n",
        "    print(\"set2 and set3 have no elements in common\")\n",
        "else:\n",
        "    print(\"set2 and set3 have elements in common\")\n"
      ],
      "metadata": {
        "colab": {
          "base_uri": "https://localhost:8080/"
        },
        "id": "Z-LymEm1268O",
        "outputId": "ffb2d54e-e6cb-4f3a-afdd-2721d86ef29c"
      },
      "execution_count": 18,
      "outputs": [
        {
          "output_type": "stream",
          "name": "stdout",
          "text": [
            "set2 and set3 have no elements in common\n"
          ]
        }
      ]
    },
    {
      "cell_type": "code",
      "source": [
        "#Q19 Find the synmmetric difference between two sets:\n",
        "set8 = set2.symmetric_difference(set3)\n"
      ],
      "metadata": {
        "id": "lUOkBj9M3ECL"
      },
      "execution_count": 19,
      "outputs": []
    },
    {
      "cell_type": "code",
      "source": [
        "#Q20 Update a set with elements from another set:\n",
        "set2.update(set3)\n"
      ],
      "metadata": {
        "id": "-TfGsRaU3c91"
      },
      "execution_count": 20,
      "outputs": []
    },
    {
      "cell_type": "code",
      "source": [
        "#Q21 create a set with the first 5 prime numbers:\n",
        "set1 = {2, 3, 5, 7, 11}\n"
      ],
      "metadata": {
        "id": "WACgy51y3nMR"
      },
      "execution_count": 21,
      "outputs": []
    },
    {
      "cell_type": "code",
      "source": [
        "#Q22 check if two sets are identical:\n",
        "set1 = {2, 3, 5, 7, 11 }\n",
        "set2 = {11, 2, 5, 3, 7 }\n",
        "\n",
        " if set1 == set2:\n",
        "      print(\"The two sets are identical.\")\n",
        "else:\n",
        "      print(\"The two sets are not identical.\")\n",
        "\n",
        "\n"
      ],
      "metadata": {
        "colab": {
          "base_uri": "https://localhost:8080/",
          "height": 141
        },
        "id": "ffB3yWaL49b8",
        "outputId": "5b1af8bc-463f-41f6-ac32-64cae5d96244"
      },
      "execution_count": 31,
      "outputs": [
        {
          "output_type": "error",
          "ename": "IndentationError",
          "evalue": "ignored",
          "traceback": [
            "\u001b[0;36m  File \u001b[0;32m\"<ipython-input-31-4c5e31e27b74>\"\u001b[0;36m, line \u001b[0;32m5\u001b[0m\n\u001b[0;31m    if set1 == set2:\u001b[0m\n\u001b[0m    ^\u001b[0m\n\u001b[0;31mIndentationError\u001b[0m\u001b[0;31m:\u001b[0m unexpected indent\n"
          ]
        }
      ]
    },
    {
      "cell_type": "code",
      "source": [
        "#Q23 create a frozen set.\n",
        "\n",
        "frozenset1 = frozenset(set1)\n"
      ],
      "metadata": {
        "id": "OHIOeuq15YBD"
      },
      "execution_count": 34,
      "outputs": []
    },
    {
      "cell_type": "code",
      "source": [
        "#Q24 check if a set is disjoin with another set.\n",
        "set4 = {1, 4, 6, 8, 9}\n",
        "if set1.isdisjoint(set4):\n",
        "    print(\"set1 and set4 have no elements in common\")\n",
        "else:\n",
        "    print(\"set1 and set4 have elements in common\")\n"
      ],
      "metadata": {
        "colab": {
          "base_uri": "https://localhost:8080/"
        },
        "id": "aS07sLUA74Gu",
        "outputId": "d08797bc-6ca9-424b-d587-e12394e905d5"
      },
      "execution_count": 35,
      "outputs": [
        {
          "output_type": "stream",
          "name": "stdout",
          "text": [
            "set1 and set4 have no elements in common\n"
          ]
        }
      ]
    },
    {
      "cell_type": "code",
      "source": [
        "#Q25 create a set of squares of numbers from 1 to 5:\n",
        "set5 = {x**2 for x in range(1, 6)}\n"
      ],
      "metadata": {
        "id": "v0iKCjc78GCW"
      },
      "execution_count": 36,
      "outputs": []
    },
    {
      "cell_type": "code",
      "source": [
        "#Q26 filter out all even numbers from a set :\n",
        "set6 = {x for x in set5 if x % 2 != 0}\n"
      ],
      "metadata": {
        "id": "clg7wk0q-SCs"
      },
      "execution_count": 37,
      "outputs": []
    },
    {
      "cell_type": "code",
      "source": [
        "#Q27 MUltiply all elements in a set by 2.\n",
        "set7 = {x*2 for x in set1}\n"
      ],
      "metadata": {
        "id": "RR7UF9pb_EEE"
      },
      "execution_count": 38,
      "outputs": []
    },
    {
      "cell_type": "code",
      "source": [
        "#Q28 create a set of random numbers .\n",
        "import random\n",
        "set8 = {random.randint(1, 100) for _ in range(10)}\n"
      ],
      "metadata": {
        "id": "PJJVEPBC_WiN"
      },
      "execution_count": 39,
      "outputs": []
    },
    {
      "cell_type": "code",
      "source": [
        "#Q29 check if a set is empty.\n",
        "if not set8:\n",
        "    print(\"set8 is empty\")\n",
        "else:\n",
        "    print(\"set8 is not empty\")\n"
      ],
      "metadata": {
        "colab": {
          "base_uri": "https://localhost:8080/"
        },
        "id": "wvmRCUrG_f7l",
        "outputId": "d26b0313-8be1-4fd5-879f-8c5cd94baf2d"
      },
      "execution_count": 40,
      "outputs": [
        {
          "output_type": "stream",
          "name": "stdout",
          "text": [
            "set8 is not empty\n"
          ]
        }
      ]
    },
    {
      "cell_type": "code",
      "source": [
        "#Q30 create a nested set (hint:use frozenset).\n",
        "set9 = {frozenset({1, 2}), frozenset({3, 4})}\n"
      ],
      "metadata": {
        "id": "8bt7XClh_t2W"
      },
      "execution_count": 41,
      "outputs": []
    },
    {
      "cell_type": "code",
      "source": [
        "#Q31 Remove an element from a set using the discard method.\n",
        "set1.discard(11)\n"
      ],
      "metadata": {
        "id": "knByqdsq_7sS"
      },
      "execution_count": 42,
      "outputs": []
    },
    {
      "cell_type": "code",
      "source": [
        "#Q32 Compare two sets.\n",
        "set1 = {2, 3, 5, 7, 11}\n",
        "set2 = {11, 2, 5, 3, 7}\n",
        "\n",
        "if set1 == set2:\n",
        "    print(\"The two sets are identical.\")\n",
        "else:\n",
        "    print(\"The two sets are not identical.\")\n"
      ],
      "metadata": {
        "colab": {
          "base_uri": "https://localhost:8080/"
        },
        "id": "qMQZyX1NAHHv",
        "outputId": "13b68b72-a8b8-4244-9207-c19f8d384f5b"
      },
      "execution_count": 44,
      "outputs": [
        {
          "output_type": "stream",
          "name": "stdout",
          "text": [
            "The two sets are identical.\n"
          ]
        }
      ]
    },
    {
      "cell_type": "code",
      "source": [
        "#Q33 Create a set  from a string .\n",
        "string1 = \"hello\"\n",
        "set11 = set(string1)\n"
      ],
      "metadata": {
        "id": "hWHgW3Q2A9AB"
      },
      "execution_count": 45,
      "outputs": []
    },
    {
      "cell_type": "code",
      "source": [
        "#Q34 Covert a set of strings to a set of integers.\n",
        "set12 = {\"1\", \"2\", \"3\", \"4\", \"5\"}\n",
        "set13 = {int(x) for x in set12}\n"
      ],
      "metadata": {
        "id": "W-5fgSLYBbv3"
      },
      "execution_count": 47,
      "outputs": []
    },
    {
      "cell_type": "code",
      "source": [
        "#Q35 convert a set of integers to a set of strings.\n",
        "\n",
        "set14 = {str(x) for x in set13}\n"
      ],
      "metadata": {
        "id": "aJBVFmMsBlvp"
      },
      "execution_count": 48,
      "outputs": []
    },
    {
      "cell_type": "code",
      "source": [
        "#Q36 create a set of tuple:\n",
        "tuple1 = (1, 2, 3, 4, 5)\n",
        "set15 = set(tuple1)\n"
      ],
      "metadata": {
        "id": "kKZtBjsRB5GN"
      },
      "execution_count": 49,
      "outputs": []
    },
    {
      "cell_type": "code",
      "source": [
        "#Q37 convert a set to a tuple.\n",
        "set1 = {1, 2, 3, 4, 5}\n",
        "tuple1 = tuple(set1)\n",
        "\n"
      ],
      "metadata": {
        "id": "66EJtMM4CJXh"
      },
      "execution_count": 51,
      "outputs": []
    },
    {
      "cell_type": "code",
      "source": [
        "#Q38 Find the maximum value in a set.\n",
        "max_value = max(set1)\n"
      ],
      "metadata": {
        "id": "zHpzstT-C11x"
      },
      "execution_count": 52,
      "outputs": []
    },
    {
      "cell_type": "code",
      "source": [
        "#Q39 Find the minimum value in a set.\n",
        "min_value = min(set1)\n"
      ],
      "metadata": {
        "id": "rf_j9hDpDP5l"
      },
      "execution_count": 53,
      "outputs": []
    },
    {
      "cell_type": "code",
      "source": [
        "#Q40 create a set from user input .\n",
        "set16 = set(input(\"Enter a set of numbers separated by commas: \").split(\",\"))\n",
        "\n",
        "\n"
      ],
      "metadata": {
        "colab": {
          "base_uri": "https://localhost:8080/"
        },
        "id": "3PVX6lrRDv5v",
        "outputId": "8052d47c-5ccf-4281-8494-f68ecf7f95aa"
      },
      "execution_count": 57,
      "outputs": [
        {
          "name": "stdout",
          "output_type": "stream",
          "text": [
            "Enter a set of numbers separated by commas: 2,3,3\n"
          ]
        }
      ]
    },
    {
      "cell_type": "code",
      "source": [
        "#Q41 check if the intersection of two sets is empty.\n",
        "set17 = {1, 2, 3}\n",
        "set18 = {4, 5, 6}\n",
        "if set17.isdisjoint(set18):\n",
        "    print(\"set17 and set18 have no elements in common\")\n",
        "else:\n",
        "    print(\"set17 and set18 have elements in common\")\n"
      ],
      "metadata": {
        "colab": {
          "base_uri": "https://localhost:8080/"
        },
        "id": "bVmQUz_ED4Ma",
        "outputId": "b9188a78-aaec-4b86-9bc0-4c9dda037624"
      },
      "execution_count": 58,
      "outputs": [
        {
          "output_type": "stream",
          "name": "stdout",
          "text": [
            "set17 and set18 have no elements in common\n"
          ]
        }
      ]
    },
    {
      "cell_type": "code",
      "source": [
        "#Q42 create a set of the first 5 fibonacci numbers.\n",
        "set19 = {1, 1, 2, 3, 5}\n"
      ],
      "metadata": {
        "id": "JNQ_F63CEh8a"
      },
      "execution_count": 59,
      "outputs": []
    },
    {
      "cell_type": "code",
      "source": [
        "#Q43 Remove duplicates from  a list using sets :\n",
        "list1 = [1, 2, 3, 2, 4, 5, 3]\n",
        "set20 = set(list1)\n"
      ],
      "metadata": {
        "id": "4mOwJvF6E2OE"
      },
      "execution_count": 60,
      "outputs": []
    },
    {
      "cell_type": "code",
      "source": [
        "#Q44 Check if two sets have the same elements , regardless of their count.\n",
        "set1 = {1, 2, 3, 4, 5}\n",
        "set2 = {5, 4, 3, 2, 1}\n",
        "\n",
        "if set1 == set2:\n",
        "    print(\"The two sets have the same elements, regardless of their count.\")\n",
        "else:\n",
        "    print(\"The two sets do not have the same elements, regardless of their count.\")\n"
      ],
      "metadata": {
        "colab": {
          "base_uri": "https://localhost:8080/"
        },
        "id": "6rtts6FuFDPK",
        "outputId": "2a6a5a04-f576-4c15-ba02-2967a3eec2a3"
      },
      "execution_count": 62,
      "outputs": [
        {
          "output_type": "stream",
          "name": "stdout",
          "text": [
            "The two sets have the same elements, regardless of their count.\n"
          ]
        }
      ]
    },
    {
      "cell_type": "code",
      "source": [
        "#Q45 Create a set of the first n powers of 2:\n",
        "n = 5\n",
        "set1 = {2**i for i in range(n)}\n"
      ],
      "metadata": {
        "id": "tojeQ9r1Fr7S"
      },
      "execution_count": 63,
      "outputs": []
    },
    {
      "cell_type": "code",
      "source": [
        "#Q46 To find the common elements between a set and a list.\n",
        "set1 = {1, 2, 3, 4, 5}\n",
        "list1 = [3, 4, 5, 6, 7]\n",
        "set2 = set(list1)\n",
        "common_elements = set1.intersection(set2)\n",
        "\n",
        "\n"
      ],
      "metadata": {
        "id": "XjvN3wD7G_li"
      },
      "execution_count": 66,
      "outputs": []
    },
    {
      "cell_type": "code",
      "source": [
        "#Q47 Create a set of the first n triangular numbers.\n",
        "n = 5\n",
        "set5 = {i*(i+1)//2 for i in range(1, n+1)}\n"
      ],
      "metadata": {
        "id": "st9w9UbpHO8J"
      },
      "execution_count": 67,
      "outputs": []
    },
    {
      "cell_type": "code",
      "source": [
        "#Q48 check  if a set contains another set as a subset.\n",
        "set6 = {1, 2, 3, 4, 5}\n",
        "set7 = {2, 4}\n",
        "if set7.issubset(set6):\n",
        "    print(\"set7 is a subset of set6\")\n",
        "else:\n",
        "    print(\"set7 is not a subset of set6\")\n"
      ],
      "metadata": {
        "colab": {
          "base_uri": "https://localhost:8080/"
        },
        "id": "WHdjPDzjIDKz",
        "outputId": "11a92425-aebd-418b-a672-cbe987d0c0a9"
      },
      "execution_count": 68,
      "outputs": [
        {
          "output_type": "stream",
          "name": "stdout",
          "text": [
            "set7 is a subset of set6\n"
          ]
        }
      ]
    },
    {
      "cell_type": "code",
      "source": [
        "#Q49 Create a set of alternating 1s and 0s of length n.\n",
        "n = 5\n",
        "set8 = {i%2 for i in range(n)}\n"
      ],
      "metadata": {
        "id": "uI2x2E8zIO80"
      },
      "execution_count": 69,
      "outputs": []
    },
    {
      "cell_type": "code",
      "source": [
        "#Q50 Merge multiple sets into one.\n",
        "set9 = {1, 2, 3}\n",
        "set10 = {3, 4, 5}\n",
        "set11 = {5, 6, 7}\n",
        "set12 = set9.union(set10, set11)\n"
      ],
      "metadata": {
        "id": "Q6_riB7KIa7N"
      },
      "execution_count": 70,
      "outputs": []
    },
    {
      "cell_type": "code",
      "source": [],
      "metadata": {
        "id": "z0_vEKFYIjHj"
      },
      "execution_count": null,
      "outputs": []
    }
  ]
}